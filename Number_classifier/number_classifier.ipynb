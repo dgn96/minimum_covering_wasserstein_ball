{
 "cells": [
  {
   "cell_type": "code",
   "execution_count": 1,
   "id": "5766e4e7",
   "metadata": {
    "scrolled": true
   },
   "outputs": [],
   "source": [
    "import numpy as np\n",
    "import cvxpy as cp\n",
    "from itertools import product\n",
    "import matplotlib.pyplot as plt\n",
    "from fixed_support import fixed_support"
   ]
  },
  {
   "cell_type": "code",
   "execution_count": 2,
   "id": "b3b34027",
   "metadata": {},
   "outputs": [],
   "source": [
    "from sklearn.datasets import load_digits\n",
    "digits = load_digits()"
   ]
  },
  {
   "cell_type": "code",
   "execution_count": 3,
   "id": "d2244a6f",
   "metadata": {},
   "outputs": [],
   "source": [
    "# select k\n",
    "K = 40\n",
    "\n",
    "# select cifre to analyze\n",
    "digit = 3\n",
    "\n",
    "# Save p_k\n",
    "p_k = [np.array(digits.images[k].flatten()) for k in np.where(digits.target == digit)[0][0:K]]\n",
    "\n",
    "# Define support for T\n",
    "N = len(p_k[0])"
   ]
  },
  {
   "cell_type": "code",
   "execution_count": 4,
   "id": "4801ed5a",
   "metadata": {},
   "outputs": [
    {
     "data": {
      "text/plain": [
       "<matplotlib.image.AxesImage at 0x1ff07654250>"
      ]
     },
     "execution_count": 4,
     "metadata": {},
     "output_type": "execute_result"
    },
    {
     "data": {
      "image/png": "[encoded data removed]",
      "text/plain": [
       "<Figure size 432x288 with 1 Axes>"
      ]
     },
     "metadata": {
      "needs_background": "light"
     },
     "output_type": "display_data"
    }
   ],
   "source": [
    "# Define support for xi\n",
    "N_euc = int(np.sqrt(N))\n",
    "\n",
    "# Create cost matrix (l-2 norm used for the moment)\n",
    "c = np.zeros((N, N))\n",
    "for i, mi in enumerate(list(product(np.arange(N_euc), np.arange(N_euc)))):\n",
    "    for j, mj in enumerate(list(product(np.arange(N_euc), np.arange(N_euc)))):\n",
    "        c[i, j] = np.linalg.norm(np.array(mi)- np.array(mj), 2)**2 # l-2 norm\n",
    "        #c[i, j] = np.linalg.norm(np.array(mi)- np.array(mj), 1) # l-1 norm\n",
    "\n",
    "# Plot\n",
    "plt.imshow(c)"
   ]
  },
  {
   "cell_type": "code",
   "execution_count": 5,
   "id": "e478f67d",
   "metadata": {},
   "outputs": [],
   "source": [
    "p = fixed_support(c, p_k)"
   ]
  },
  {
   "cell_type": "code",
   "execution_count": 6,
   "id": "29f1fe43",
   "metadata": {},
   "outputs": [],
   "source": [
    "p_opt = [p[i*N_euc:N_euc*(i + 1)] for i in range(N_euc)]"
   ]
  },
  {
   "cell_type": "code",
   "execution_count": 7,
   "id": "dad30d31",
   "metadata": {},
   "outputs": [
    {
     "data": {
      "text/plain": [
       "<matplotlib.image.AxesImage at 0x1ff0740aac0>"
      ]
     },
     "execution_count": 7,
     "metadata": {},
     "output_type": "execute_result"
    },
    {
     "data": {
      "image/png": "[encoded data removed]",
      "text/plain": [
       "<Figure size 432x288 with 1 Axes>"
      ]
     },
     "metadata": {
      "needs_background": "light"
     },
     "output_type": "display_data"
    }
   ],
   "source": [
    "plt.gray()\n",
    "plt.imshow(p_opt)"
   ]
  },
  {
   "cell_type": "code",
   "execution_count": null,
   "id": "4de4b282",
   "metadata": {},
   "outputs": [],
   "source": []
  }
 ],
 "metadata": {
  "kernelspec": {
   "display_name": "Python 3 (ipykernel)",
   "language": "python",
   "name": "python3"
  },
  "language_info": {
   "codemirror_mode": {
    "name": "ipython",
    "version": 3
   },
   "file_extension": ".py",
   "mimetype": "text/x-python",
   "name": "python",
   "nbconvert_exporter": "python",
   "pygments_lexer": "ipython3",
   "version": "3.9.7"
  }
 },
 "nbformat": 4,
 "nbformat_minor": 5
}
