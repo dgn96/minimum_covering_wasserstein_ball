{
 "cells": [
  {
   "cell_type": "code",
   "execution_count": 1,
   "id": "600f0320",
   "metadata": {
    "scrolled": true
   },
   "outputs": [],
   "source": [
    "import numpy as np\n",
    "import cvxpy as cp\n",
    "from itertools import product\n",
    "import matplotlib.pyplot as plt\n",
    "from fixed_support import fixed_support"
   ]
  },
  {
   "cell_type": "code",
   "execution_count": 2,
   "id": "44348d67",
   "metadata": {},
   "outputs": [],
   "source": [
    "from sklearn.datasets import load_digits\n",
    "digits = load_digits()"
   ]
  },
  {
   "cell_type": "code",
   "execution_count": 3,
   "id": "09b75144",
   "metadata": {},
   "outputs": [
    {
     "data": {
      "text/plain": [
       "(array([178., 182., 177., 183., 181., 182., 181., 179., 174., 180.]),\n",
       " array([0. , 0.9, 1.8, 2.7, 3.6, 4.5, 5.4, 6.3, 7.2, 8.1, 9. ]),\n",
       " <BarContainer object of 10 artists>)"
      ]
     },
     "execution_count": 3,
     "metadata": {},
     "output_type": "execute_result"
    },
    {
     "data": {
      "image/png": "[encoded data removed]",
      "text/plain": [
       "<Figure size 432x288 with 1 Axes>"
      ]
     },
     "metadata": {
      "needs_background": "light"
     },
     "output_type": "display_data"
    }
   ],
   "source": [
    "plt.hist(digits.target, bins = 10)"
   ]
  },
  {
   "cell_type": "code",
   "execution_count": 4,
   "id": "e4aa9c09",
   "metadata": {},
   "outputs": [
    {
     "name": "stdout",
     "output_type": "stream",
     "text": [
      "122 64\n"
     ]
    }
   ],
   "source": [
    "# Percentage of data for training\n",
    "training = .7\n",
    "\n",
    "# Get count for labels\n",
    "unique, counts = np.unique(digits.target, return_counts = True)\n",
    "\n",
    "# Get min number of labbel per digit\n",
    "total_points = min(counts)\n",
    "\n",
    "# Define parameters\n",
    "K = int(np.round(training*total_points))\n",
    "N = len(np.array(digits.images[0].flatten()))\n",
    "\n",
    "print(K, N)"
   ]
  },
  {
   "cell_type": "code",
   "execution_count": 5,
   "id": "752cdbdc",
   "metadata": {},
   "outputs": [
    {
     "data": {
      "text/plain": [
       "<matplotlib.image.AxesImage at 0x27e83be11f0>"
      ]
     },
     "execution_count": 5,
     "metadata": {},
     "output_type": "execute_result"
    },
    {
     "data": {
      "image/png": "[encoded data removed]",
      "text/plain": [
       "<Figure size 432x288 with 1 Axes>"
      ]
     },
     "metadata": {
      "needs_background": "light"
     },
     "output_type": "display_data"
    }
   ],
   "source": [
    "# Define support for xi\n",
    "N_euc = int(np.sqrt(N))\n",
    "\n",
    "# Create cost matrix (l-2 norm used for the moment)\n",
    "c = np.zeros((N, N))\n",
    "for i, mi in enumerate(list(product(np.arange(N_euc), np.arange(N_euc)))):\n",
    "    for j, mj in enumerate(list(product(np.arange(N_euc), np.arange(N_euc)))):\n",
    "        c[i, j] = np.linalg.norm(np.array(mi)- np.array(mj), 2)**2 # l-2 norm\n",
    "\n",
    "# Plot\n",
    "plt.imshow(c)"
   ]
  },
  {
   "cell_type": "code",
   "execution_count": 47,
   "id": "889ade4e",
   "metadata": {},
   "outputs": [],
   "source": [
    "typical_p = []\n",
    "# select cifre to analyze\n",
    "for digit in unique:\n",
    "    # Save p_k\n",
    "    p_k = [np.array(digits.images[k].flatten())/sum(np.array(digits.images[k].flatten())) for k in np.where(digits.target == digit)[0][0:K]]\n",
    "\n",
    "    r, p = fixed_support(c, p_k)\n",
    "    typical_p.append(p)\n",
    "    \n"
   ]
  },
  {
   "cell_type": "code",
   "execution_count": 48,
   "id": "25ca993d",
   "metadata": {},
   "outputs": [],
   "source": [
    "p = typical_p[3]"
   ]
  },
  {
   "cell_type": "code",
   "execution_count": null,
   "id": "aa1fb00b",
   "metadata": {},
   "outputs": [],
   "source": []
  },
  {
   "cell_type": "code",
   "execution_count": null,
   "id": "32990855",
   "metadata": {},
   "outputs": [],
   "source": []
  },
  {
   "cell_type": "code",
   "execution_count": null,
   "id": "4756a90f",
   "metadata": {},
   "outputs": [],
   "source": []
  },
  {
   "cell_type": "code",
   "execution_count": 37,
   "id": "df6e9988",
   "metadata": {},
   "outputs": [],
   "source": [
    "p_opt = [p[i*N_euc:N_euc*(i + 1)] for i in range(N_euc)]"
   ]
  },
  {
   "cell_type": "code",
   "execution_count": 38,
   "id": "fed590a2",
   "metadata": {},
   "outputs": [
    {
     "data": {
      "text/plain": [
       "<matplotlib.image.AxesImage at 0x27e842f1ca0>"
      ]
     },
     "execution_count": 38,
     "metadata": {},
     "output_type": "execute_result"
    },
    {
     "data": {
      "image/png": "[encoded data removed]",
      "text/plain": [
       "<Figure size 432x288 with 1 Axes>"
      ]
     },
     "metadata": {
      "needs_background": "light"
     },
     "output_type": "display_data"
    }
   ],
   "source": [
    "plt.gray()\n",
    "plt.imshow(p_opt)"
   ]
  },
  {
   "cell_type": "code",
   "execution_count": 9,
   "id": "8c01dc7c",
   "metadata": {},
   "outputs": [
    {
     "data": {
      "text/plain": [
       "array([[2.879831e-11]])"
      ]
     },
     "execution_count": 9,
     "metadata": {},
     "output_type": "execute_result"
    }
   ],
   "source": [
    "r"
   ]
  },
  {
   "cell_type": "code",
   "execution_count": null,
   "id": "be3cb803",
   "metadata": {},
   "outputs": [],
   "source": []
  }
 ],
 "metadata": {
  "kernelspec": {
   "display_name": "Python 3 (ipykernel)",
   "language": "python",
   "name": "python3"
  },
  "language_info": {
   "codemirror_mode": {
    "name": "ipython",
    "version": 3
   },
   "file_extension": ".py",
   "mimetype": "text/x-python",
   "name": "python",
   "nbconvert_exporter": "python",
   "pygments_lexer": "ipython3",
   "version": "3.9.7"
  }
 },
 "nbformat": 4,
 "nbformat_minor": 5
}
