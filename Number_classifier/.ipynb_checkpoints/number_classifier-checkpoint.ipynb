{
 "cells": [
  {
   "cell_type": "code",
   "execution_count": 46,
   "id": "a2c39e5a",
   "metadata": {
    "scrolled": true
   },
   "outputs": [],
   "source": [
    "import numpy as np\n",
    "from itertools import product\n",
    "import matplotlib.pyplot as plt\n",
    "from fixed_support import fixed_support"
   ]
  },
  {
   "cell_type": "code",
   "execution_count": 47,
   "id": "4633210d",
   "metadata": {},
   "outputs": [],
   "source": [
    "from sklearn.datasets import load_digits\n",
    "digits = load_digits()\n",
    "\n",
    "# Choose training set by percentage of data for training\n",
    "p_training = .7\n",
    "k_training = int(p_training*len(digits.target))\n",
    "\n",
    "# Choose training set by net ammount"
   ]
  },
  {
   "cell_type": "code",
   "execution_count": 48,
   "id": "168b25ea",
   "metadata": {},
   "outputs": [],
   "source": [
    "target_train = digits.target[0:k_training]\n",
    "images_train = digits.images[0:k_training]\n",
    "\n",
    "target_test = digits.target[k_training:]\n",
    "images_test = digits.images[k_training:]"
   ]
  },
  {
   "cell_type": "code",
   "execution_count": 49,
   "id": "602b67a3",
   "metadata": {},
   "outputs": [
    {
     "data": {
      "text/plain": [
       "(array([53., 53., 53., 53., 57., 56., 54., 54., 52., 55.]),\n",
       " array([0. , 0.9, 1.8, 2.7, 3.6, 4.5, 5.4, 6.3, 7.2, 8.1, 9. ]),\n",
       " <BarContainer object of 10 artists>)"
      ]
     },
     "execution_count": 49,
     "metadata": {},
     "output_type": "execute_result"
    },
    {
     "data": {
      "image/png": "[encoded data removed]",
      "text/plain": [
       "<Figure size 432x288 with 2 Axes>"
      ]
     },
     "metadata": {
      "needs_background": "light"
     },
     "output_type": "display_data"
    }
   ],
   "source": [
    "fig, ax = plt.subplots(2)\n",
    "\n",
    "ax[0].hist(target_train, bins = 10)\n",
    "ax[1].hist(target_test, bins = 10)"
   ]
  },
  {
   "cell_type": "markdown",
   "id": "f25567eb",
   "metadata": {},
   "source": [
    "## Training"
   ]
  },
  {
   "cell_type": "code",
   "execution_count": 27,
   "id": "152ef51f",
   "metadata": {},
   "outputs": [
    {
     "data": {
      "text/plain": [
       "<matplotlib.image.AxesImage at 0x236823b9c70>"
      ]
     },
     "execution_count": 27,
     "metadata": {},
     "output_type": "execute_result"
    },
    {
     "data": {
      "image/png": "[encoded data removed]",
      "text/plain": [
       "<Figure size 432x288 with 1 Axes>"
      ]
     },
     "metadata": {
      "needs_background": "light"
     },
     "output_type": "display_data"
    }
   ],
   "source": [
    "N = len(np.array(digits.images[0].flatten()))\n",
    "\n",
    "# Define support for xi\n",
    "N_euc = int(np.sqrt(N))\n",
    "\n",
    "# Create cost matrix (l-2 norm used for the moment)\n",
    "c = np.zeros((N, N))\n",
    "for i, mi in enumerate(list(product(np.arange(N_euc), np.arange(N_euc)))):\n",
    "    for j, mj in enumerate(list(product(np.arange(N_euc), np.arange(N_euc)))):\n",
    "        c[i, j] = np.linalg.norm(np.array(mi)- np.array(mj), 2)**2 # l-2 norm\n",
    "\n",
    "# Plot\n",
    "plt.imshow(c)"
   ]
  },
  {
   "cell_type": "code",
   "execution_count": 28,
   "id": "0337c7bb",
   "metadata": {},
   "outputs": [],
   "source": [
    "typical_p = []\n",
    "# select cifre to analyze\n",
    "for digit in range(10):\n",
    "    # Save p_k\n",
    "    p_k = [np.array(images_train[k].flatten())/sum(np.array(images_train[k].flatten())) \n",
    "           for k in np.where(target_train == digit)[0][0:]]\n",
    "\n",
    "    r, p = fixed_support(c, p_k)\n",
    "    typical_p.append(p)\n",
    "    \n"
   ]
  },
  {
   "cell_type": "code",
   "execution_count": 30,
   "id": "570d0466",
   "metadata": {},
   "outputs": [
    {
     "data": {
      "text/plain": [
       "<matplotlib.image.AxesImage at 0x236826f4280>"
      ]
     },
     "execution_count": 30,
     "metadata": {},
     "output_type": "execute_result"
    },
    {
     "data": {
      "image/png": "[encoded data removed]",
      "text/plain": [
       "<Figure size 432x288 with 1 Axes>"
      ]
     },
     "metadata": {
      "needs_background": "light"
     },
     "output_type": "display_data"
    }
   ],
   "source": [
    "p = typical_p[1]\n",
    "p_opt = [p[i*N_euc:N_euc*(i + 1)] for i in range(N_euc)]\n",
    "plt.gray()\n",
    "plt.imshow(p_opt)"
   ]
  },
  {
   "cell_type": "markdown",
   "id": "244b6095",
   "metadata": {},
   "source": [
    "## Testing"
   ]
  },
  {
   "cell_type": "code",
   "execution_count": 69,
   "id": "e235d993",
   "metadata": {},
   "outputs": [],
   "source": [
    "import cvxpy as cp\n",
    "\n",
    "def wasserstein_dist(c, p, p_k):\n",
    "    N = len(p_k)\n",
    "\n",
    "    # Dec Var\n",
    "    T = cp.Variable((N, N))\n",
    "\n",
    "    # Obj\n",
    "    obj = cp.Minimize(cp.trace(c.T@T))\n",
    "    #obj = cp.Minimize(sum(sum(cp.multiply(T, c))))\n",
    "\n",
    "    # Cons\n",
    "    cons = [T >= 0]\n",
    "    cons.append(T@np.ones(N) == p)\n",
    "    cons.append(T.T@np.ones(N) == p_k)\n",
    "\n",
    "    # Solve program\n",
    "    problem = cp.Problem(obj, cons)\n",
    "    problem.solve(solver = cp.SCIPY, scipy_options={\"method\": \"highs\"})\n",
    "\n",
    "    return obj.value"
   ]
  },
  {
   "cell_type": "code",
   "execution_count": 70,
   "id": "b8017ca6",
   "metadata": {},
   "outputs": [],
   "source": [
    "#from fixed_support import wasserstein_dist\n",
    "k =18\n",
    "\n",
    "p_k = np.array(images_test[k].flatten())/sum(np.array(images_test[k].flatten()))"
   ]
  },
  {
   "cell_type": "code",
   "execution_count": 71,
   "id": "6d1d6628",
   "metadata": {},
   "outputs": [],
   "source": [
    "a = wasserstein_dist(c, typical_p[9], p_k)"
   ]
  },
  {
   "cell_type": "code",
   "execution_count": 38,
   "id": "e0a3d90e",
   "metadata": {},
   "outputs": [
    {
     "name": "stderr",
     "output_type": "stream",
     "text": [
      "C:\\Users\\gutie\\anaconda3\\lib\\site-packages\\cvxpy\\problems\\problem.py:1296: UserWarning: Solution may be inaccurate. Try another solver, adjusting the solver settings, or solve with verbose=True for more information.\n",
      "  warnings.warn(\n"
     ]
    }
   ],
   "source": [
    "digit_result = []\n",
    "for image in images_test:\n",
    "    p_k = np.array(image.flatten())/sum(np.array(image.flatten()))\n",
    "    classifier = [wasserstein_dist(c, typical_p[k], p_k) for k in range(10)]\n",
    "    digit_result.append(np.argmin(classifier))"
   ]
  },
  {
   "cell_type": "code",
   "execution_count": 44,
   "id": "884797b1",
   "metadata": {},
   "outputs": [],
   "source": [
    "a = len(digit_result)"
   ]
  },
  {
   "cell_type": "code",
   "execution_count": 45,
   "id": "ca050e89",
   "metadata": {},
   "outputs": [
    {
     "name": "stdout",
     "output_type": "stream",
     "text": [
      "0.9\n"
     ]
    }
   ],
   "source": [
    "accuracy = 1 - len(np.nonzero(target_test[0:a] - digit_result)[0])/len(digit_result)\n",
    "print(accuracy)"
   ]
  },
  {
   "cell_type": "code",
   "execution_count": 53,
   "id": "9c7998c8",
   "metadata": {},
   "outputs": [
    {
     "name": "stdout",
     "output_type": "stream",
     "text": [
      "['ECOS', 'ECOS_BB', 'GUROBI', 'OSQP', 'SCIPY', 'SCS']\n"
     ]
    }
   ],
   "source": [
    "print(cp.installed_solvers())"
   ]
  },
  {
   "cell_type": "code",
   "execution_count": null,
   "id": "6d8fe468",
   "metadata": {},
   "outputs": [],
   "source": []
  },
  {
   "cell_type": "code",
   "execution_count": null,
   "id": "b6bceb9d",
   "metadata": {},
   "outputs": [],
   "source": []
  }
 ],
 "metadata": {
  "kernelspec": {
   "display_name": "Python 3 (ipykernel)",
   "language": "python",
   "name": "python3"
  },
  "language_info": {
   "codemirror_mode": {
    "name": "ipython",
    "version": 3
   },
   "file_extension": ".py",
   "mimetype": "text/x-python",
   "name": "python",
   "nbconvert_exporter": "python",
   "pygments_lexer": "ipython3",
   "version": "3.9.7"
  }
 },
 "nbformat": 4,
 "nbformat_minor": 5
}
