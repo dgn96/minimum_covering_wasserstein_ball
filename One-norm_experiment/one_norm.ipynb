{
 "cells": [
  {
   "cell_type": "code",
   "execution_count": 1,
   "id": "d0647fbc",
   "metadata": {},
   "outputs": [],
   "source": [
    "# Import libraries\n",
    "import numpy as np\n",
    "import cvxpy as cp\n",
    "from itertools import product"
   ]
  },
  {
   "cell_type": "code",
   "execution_count": 39,
   "id": "fb67b47f",
   "metadata": {},
   "outputs": [
    {
     "name": "stdout",
     "output_type": "stream",
     "text": [
      "2 10\n"
     ]
    }
   ],
   "source": [
    "# Read data (FOR NOW GENERATE PSEUDO RANDOM NORMAL SEQUENCE)\n",
    "xi = np.random.normal(size = (2, 10))\n",
    "\n",
    "# Define number of distributions\n",
    "K = xi.shape[0]\n",
    "\n",
    "# Define number of atoms per sample\n",
    "N = xi.shape[1]\n",
    "\n",
    "# Define probability matrix\n",
    "p = (1/N)*np.ones((K, N))\n",
    "\n",
    "print(K, N)"
   ]
  },
  {
   "cell_type": "code",
   "execution_count": 45,
   "id": "51f831f0",
   "metadata": {},
   "outputs": [
    {
     "data": {
      "text/plain": [
       "-9.999999999556193"
      ]
     },
     "execution_count": 45,
     "metadata": {},
     "output_type": "execute_result"
    }
   ],
   "source": [
    "# Dec Var\n",
    "mu = cp.Variable((K, N))\n",
    "lam = cp.Variable((K, 1))\n",
    "\n",
    "# Obj\n",
    "obj = cp.Maximize(-sum(sum(cp.multiply(mu, p))))\n",
    "\n",
    "# Cons\n",
    "cons = [lam >= 0]\n",
    "cons = [sum(lam) == 1]\n",
    "for alpha in product(*[range(len(xi[k])) for k in range(K)]):\n",
    "    for k in range(K):\n",
    "        cons.append(mu[k, alpha[k]] >= 5)\n",
    "\n",
    "\n",
    "# Solve program\n",
    "problem = cp.Problem(obj, cons)\n",
    "problem.solve()"
   ]
  },
  {
   "cell_type": "code",
   "execution_count": 35,
   "id": "18963764",
   "metadata": {},
   "outputs": [
    {
     "name": "stdout",
     "output_type": "stream",
     "text": [
      "0.8463924512175443\n",
      "1.5329128600968343\n",
      "1.4563023068148857\n",
      "1.0407099712384567\n",
      "0.43666313994154643\n",
      "0.8228233612901522\n",
      "-0.5092312279564122\n",
      "-1.3001252682876128\n",
      "-0.041739506574491915\n",
      "1.1533635244229585\n",
      "0.8463924512175443\n",
      "1.5329128600968343\n",
      "1.4563023068148857\n",
      "1.0407099712384567\n",
      "0.43666313994154643\n",
      "0.8228233612901522\n",
      "-0.5092312279564122\n",
      "-1.3001252682876128\n",
      "-0.041739506574491915\n",
      "1.1533635244229585\n",
      "0.8463924512175443\n",
      "1.5329128600968343\n",
      "1.4563023068148857\n",
      "1.0407099712384567\n",
      "0.43666313994154643\n",
      "0.8228233612901522\n",
      "-0.5092312279564122\n",
      "-1.3001252682876128\n",
      "-0.041739506574491915\n",
      "1.1533635244229585\n",
      "0.8463924512175443\n",
      "1.5329128600968343\n",
      "1.4563023068148857\n",
      "1.0407099712384567\n",
      "0.43666313994154643\n",
      "0.8228233612901522\n",
      "-0.5092312279564122\n",
      "-1.3001252682876128\n",
      "-0.041739506574491915\n",
      "1.1533635244229585\n",
      "0.8463924512175443\n",
      "1.5329128600968343\n",
      "1.4563023068148857\n",
      "1.0407099712384567\n",
      "0.43666313994154643\n",
      "0.8228233612901522\n",
      "-0.5092312279564122\n",
      "-1.3001252682876128\n",
      "-0.041739506574491915\n",
      "1.1533635244229585\n",
      "0.8463924512175443\n",
      "1.5329128600968343\n",
      "1.4563023068148857\n",
      "1.0407099712384567\n",
      "0.43666313994154643\n",
      "0.8228233612901522\n",
      "-0.5092312279564122\n",
      "-1.3001252682876128\n",
      "-0.041739506574491915\n",
      "1.1533635244229585\n",
      "0.8463924512175443\n",
      "1.5329128600968343\n",
      "1.4563023068148857\n",
      "1.0407099712384567\n",
      "0.43666313994154643\n",
      "0.8228233612901522\n",
      "-0.5092312279564122\n",
      "-1.3001252682876128\n",
      "-0.041739506574491915\n",
      "1.1533635244229585\n",
      "0.8463924512175443\n",
      "1.5329128600968343\n",
      "1.4563023068148857\n",
      "1.0407099712384567\n",
      "0.43666313994154643\n",
      "0.8228233612901522\n",
      "-0.5092312279564122\n",
      "-1.3001252682876128\n",
      "-0.041739506574491915\n",
      "1.1533635244229585\n",
      "0.8463924512175443\n",
      "1.5329128600968343\n",
      "1.4563023068148857\n",
      "1.0407099712384567\n",
      "0.43666313994154643\n",
      "0.8228233612901522\n",
      "-0.5092312279564122\n",
      "-1.3001252682876128\n",
      "-0.041739506574491915\n",
      "1.1533635244229585\n",
      "0.8463924512175443\n",
      "1.5329128600968343\n",
      "1.4563023068148857\n",
      "1.0407099712384567\n",
      "0.43666313994154643\n",
      "0.8228233612901522\n",
      "-0.5092312279564122\n",
      "-1.3001252682876128\n",
      "-0.041739506574491915\n",
      "1.1533635244229585\n"
     ]
    }
   ],
   "source": [
    "for mi in product(*[range(len(xi[k])) for k in range(K)]):\n",
    "    print(xi[0, mi[1]])"
   ]
  },
  {
   "cell_type": "code",
   "execution_count": 21,
   "id": "98159358",
   "metadata": {},
   "outputs": [
    {
     "data": {
      "text/plain": [
       "array([ 0.84639245,  1.53291286,  1.45630231,  1.04070997,  0.43666314,\n",
       "        0.82282336, -0.50923123, -1.30012527, -0.04173951,  1.15336352])"
      ]
     },
     "execution_count": 21,
     "metadata": {},
     "output_type": "execute_result"
    }
   ],
   "source": [
    "xi[0]"
   ]
  },
  {
   "cell_type": "code",
   "execution_count": 41,
   "id": "3f19e513",
   "metadata": {},
   "outputs": [],
   "source": [
    "k = 0"
   ]
  },
  {
   "cell_type": "code",
   "execution_count": null,
   "id": "17928a5e",
   "metadata": {},
   "outputs": [],
   "source": []
  }
 ],
 "metadata": {
  "kernelspec": {
   "display_name": "Python 3 (ipykernel)",
   "language": "python",
   "name": "python3"
  },
  "language_info": {
   "codemirror_mode": {
    "name": "ipython",
    "version": 3
   },
   "file_extension": ".py",
   "mimetype": "text/x-python",
   "name": "python",
   "nbconvert_exporter": "python",
   "pygments_lexer": "ipython3",
   "version": "3.9.7"
  }
 },
 "nbformat": 4,
 "nbformat_minor": 5
}
