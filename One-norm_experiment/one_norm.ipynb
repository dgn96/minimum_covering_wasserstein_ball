{
 "cells": [
  {
   "cell_type": "code",
   "execution_count": 20,
   "id": "d0647fbc",
   "metadata": {},
   "outputs": [],
   "source": [
    "# Import libraries\n",
    "import numpy as np\n",
    "import cvxpy as cp\n",
    "from itertools import product"
   ]
  },
  {
   "cell_type": "code",
   "execution_count": 21,
   "id": "fb67b47f",
   "metadata": {},
   "outputs": [
    {
     "name": "stdout",
     "output_type": "stream",
     "text": [
      "2 10\n"
     ]
    }
   ],
   "source": [
    "# Read data (FOR NOW GENERATE PSEUDO RANDOM NORMAL SEQUENCE)\n",
    "xi = np.random.normal(size = (2, 10))\n",
    "\n",
    "# Define number of distributions\n",
    "K = xi.shape[0]\n",
    "\n",
    "# Define number of atoms per sample\n",
    "N = xi.shape[1]\n",
    "\n",
    "# Define probability matrix\n",
    "p = (1/N)*np.ones((K, N))\n",
    "\n",
    "print(K, N)"
   ]
  },
  {
   "cell_type": "code",
   "execution_count": 24,
   "id": "51f831f0",
   "metadata": {},
   "outputs": [
    {
     "data": {
      "text/plain": [
       "1.0535724068273102"
      ]
     },
     "execution_count": 24,
     "metadata": {},
     "output_type": "execute_result"
    }
   ],
   "source": [
    "# Dec Var\n",
    "mu = cp.Variable((K, N))\n",
    "lam = cp.Variable((K, 1))\n",
    "\n",
    "# Obj\n",
    "obj = cp.Maximize(-sum(sum(cp.multiply(mu, p))))\n",
    "\n",
    "# Cons\n",
    "cons = [lam >= 0]\n",
    "cons = [sum(lam) == 1]\n",
    "for alpha in product(*[range(len(xi[k])) for k in range(K)]):\n",
    "    for xi_0 in xi[:, alpha[:]]:\n",
    "        cons.append(sum(mu[:, alpha[:]] + lam*cp.norm(xi_0 - xi[:, alpha[:]], 1)) >= 0)\n",
    "\n",
    "\n",
    "# Solve program\n",
    "problem = cp.Problem(obj, cons)\n",
    "problem.solve()"
   ]
  },
  {
   "cell_type": "code",
   "execution_count": null,
   "id": "18963764",
   "metadata": {},
   "outputs": [],
   "source": []
  },
  {
   "cell_type": "code",
   "execution_count": null,
   "id": "98159358",
   "metadata": {},
   "outputs": [],
   "source": []
  },
  {
   "cell_type": "code",
   "execution_count": null,
   "id": "3f19e513",
   "metadata": {},
   "outputs": [],
   "source": []
  },
  {
   "cell_type": "code",
   "execution_count": null,
   "id": "17928a5e",
   "metadata": {},
   "outputs": [],
   "source": []
  },
  {
   "cell_type": "code",
   "execution_count": null,
   "id": "d6527af8",
   "metadata": {},
   "outputs": [],
   "source": []
  }
 ],
 "metadata": {
  "kernelspec": {
   "display_name": "Python 3 (ipykernel)",
   "language": "python",
   "name": "python3"
  },
  "language_info": {
   "codemirror_mode": {
    "name": "ipython",
    "version": 3
   },
   "file_extension": ".py",
   "mimetype": "text/x-python",
   "name": "python",
   "nbconvert_exporter": "python",
   "pygments_lexer": "ipython3",
   "version": "3.9.7"
  }
 },
 "nbformat": 4,
 "nbformat_minor": 5
}
