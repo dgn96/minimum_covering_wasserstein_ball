{
 "cells": [
  {
   "cell_type": "code",
   "execution_count": 133,
   "id": "1ed0343c",
   "metadata": {},
   "outputs": [],
   "source": [
    "# Import libraries\n",
    "import numpy as np\n",
    "import cvxpy as cp\n",
    "from itertools import product\n",
    "import time"
   ]
  },
  {
   "cell_type": "code",
   "execution_count": 98,
   "id": "ad390cd9",
   "metadata": {},
   "outputs": [],
   "source": [
    "def exact_form(xi_k, p_k):\n",
    "    \n",
    "    # Define number of distributions\n",
    "    K = xi.shape[0]\n",
    "\n",
    "    # Define number of atoms per sample\n",
    "    N = xi.shape[1]\n",
    "    \n",
    "    # Dec Var\n",
    "    mu = cp.Variable((K, N))\n",
    "    lam = cp.Variable((K, 1))\n",
    "\n",
    "    # Obj\n",
    "    obj = cp.Maximize(-sum(sum(cp.multiply(mu, p_k))))\n",
    "\n",
    "    # Cons\n",
    "    cons = [lam >= 0]\n",
    "    cons = [sum(lam) == 1]\n",
    "    for alpha in product(*[range(len(xi[k])) for k in range(K)]):\n",
    "        for xi_0 in xi_k.flatten():\n",
    "            sum_lam = 0\n",
    "            sum_mu = 0\n",
    "            for k in range(K):\n",
    "                sum_lam += lam[k]*cp.norm(xi_0 - xi[k, alpha[k]], 1)\n",
    "                sum_mu += mu[k, alpha[k]]\n",
    "            cons.append(sum_lam >= - sum_mu)\n",
    "            #print(len(mu[:, alpha[0]]))\n",
    "            #print(len(lam*cp.norm(xi_0 - xi[:, alpha[0]], 1)))\n",
    "\n",
    "    # Solve program\n",
    "    problem = cp.Problem(obj, cons)\n",
    "    problem.solve(solver = cp.SCIPY, scipy_options={\"method\": \"highs\"})\n",
    "    \n",
    "    return obj.value"
   ]
  },
  {
   "cell_type": "code",
   "execution_count": 99,
   "id": "9503ccc8",
   "metadata": {},
   "outputs": [],
   "source": [
    "def two_app(xi_k, p_k):\n",
    "    N_k = []\n",
    "    K = len(p_k)\n",
    "    c_k = []\n",
    "    S = xi_k.flatten()\n",
    "    N_s = len(S)\n",
    "    \n",
    "    \n",
    "    for k in range(K):\n",
    "        N_k.append(len(p_k[k]))\n",
    "        \n",
    "    for k in range(K):\n",
    "        # Create cost matrix (l-1 norm used)\n",
    "        c = np.zeros((N_s, N_k[k]))\n",
    "        for i in range(len(S)):\n",
    "            for j in range((N_k[k])):\n",
    "                c[i, j] = np.abs(S[i] - xi_k[k, j]) # l-1 norm\n",
    "        c_k.append(c)\n",
    "    \n",
    "    # Dec Var\n",
    "    T = [cp.Variable((N_s, N_k[k])) for k in range(K)]\n",
    "    epsilon = cp.Variable((1, 1))\n",
    "    p = cp.Variable((N_s))\n",
    "\n",
    "    # Obj\n",
    "    obj = cp.Minimize(epsilon)\n",
    "\n",
    "    cons = []\n",
    "\n",
    "    # Cons\n",
    "    for k in range(K):\n",
    "        cons.append(T[k] >= 0)\n",
    "        #cons.append(sum(sum(cp.multiply(T[k], c))) <= epsilon)\n",
    "        cons.append(cp.trace(c_k[k].T@T[k]) <= epsilon)\n",
    "        cons.append(T[k]@np.ones(N_k[k]) == p)\n",
    "        cons.append(T[k].T@np.ones(N_s) == p_k[k])\n",
    "\n",
    "    # Solve program\n",
    "    problem = cp.Problem(obj, cons)\n",
    "    problem.solve(solver = cp.SCIPY, scipy_options={\"method\": \"highs\"})\n",
    "    \n",
    "    return obj.value"
   ]
  },
  {
   "cell_type": "code",
   "execution_count": null,
   "id": "85b5770d",
   "metadata": {},
   "outputs": [],
   "source": [
    "# Read data (FOR NOW GENERATE PSEUDO RANDOM NORMAL SEQUENCE)\n",
    "#K = 2\n",
    "N = 10\n",
    "time_exact = []\n",
    "time_approx = []\n",
    "result_ex = []\n",
    "result_ap = []\n",
    "for K in range(2, 6):\n",
    "    xi = np.random.normal(size = (K, N))\n",
    "\n",
    "    # Define probability matrix\n",
    "    p_k = (1/N)*np.ones((K, N))\n",
    "\n",
    "    start = time.time()\n",
    "    result_ex.append(exact_form(xi, p_k))\n",
    "    end = time.time()\n",
    "    time_exact.append(end-start)\n",
    "\n",
    "    start = time.time()\n",
    "    result_ap.append(two_app(xi, p_k))\n",
    "    end = time.time()\n",
    "    time_approx.append(end-start)\n"
   ]
  },
  {
   "cell_type": "code",
   "execution_count": null,
   "id": "fff6ae5b",
   "metadata": {},
   "outputs": [],
   "source": [
    "print(time_exact, time_approx)"
   ]
  },
  {
   "cell_type": "code",
   "execution_count": null,
   "id": "fd6de06d",
   "metadata": {},
   "outputs": [],
   "source": []
  },
  {
   "cell_type": "code",
   "execution_count": null,
   "id": "ac1bf474",
   "metadata": {},
   "outputs": [],
   "source": []
  },
  {
   "cell_type": "code",
   "execution_count": null,
   "id": "4fdc048a",
   "metadata": {},
   "outputs": [],
   "source": []
  },
  {
   "cell_type": "code",
   "execution_count": 126,
   "id": "7a510132",
   "metadata": {},
   "outputs": [
    {
     "data": {
      "text/plain": [
       "0.24994"
      ]
     },
     "execution_count": 126,
     "metadata": {},
     "output_type": "execute_result"
    }
   ],
   "source": [
    "K = 100000\n",
    "\n",
    "results = []\n",
    "for k in range(K):\n",
    "    a = np.sort(np.random.rand(2))\n",
    "    segment = np.sort(np.array([a[0], a[1]-a[0], 1-a[1]]))\n",
    "\n",
    "    results.append(int(segment[0] + segment[1] >= segment[2]))\n",
    "    \n",
    "sum(results)/K    "
   ]
  },
  {
   "cell_type": "code",
   "execution_count": null,
   "id": "40b665a6",
   "metadata": {},
   "outputs": [],
   "source": []
  },
  {
   "cell_type": "code",
   "execution_count": null,
   "id": "53d798e8",
   "metadata": {},
   "outputs": [],
   "source": []
  }
 ],
 "metadata": {
  "kernelspec": {
   "display_name": "Python 3 (ipykernel)",
   "language": "python",
   "name": "python3"
  },
  "language_info": {
   "codemirror_mode": {
    "name": "ipython",
    "version": 3
   },
   "file_extension": ".py",
   "mimetype": "text/x-python",
   "name": "python",
   "nbconvert_exporter": "python",
   "pygments_lexer": "ipython3",
   "version": "3.9.7"
  }
 },
 "nbformat": 4,
 "nbformat_minor": 5
}
