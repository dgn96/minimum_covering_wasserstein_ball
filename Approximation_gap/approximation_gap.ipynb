{
 "cells": [
  {
   "cell_type": "code",
   "execution_count": 17,
   "id": "1ed0343c",
   "metadata": {},
   "outputs": [],
   "source": [
    "# Import libraries\n",
    "import numpy as np\n",
    "import cvxpy as cp\n",
    "from itertools import product\n",
    "import time\n",
    "import matplotlib.pyplot as plt"
   ]
  },
  {
   "cell_type": "code",
   "execution_count": 2,
   "id": "ad390cd9",
   "metadata": {},
   "outputs": [],
   "source": [
    "def exact_form(xi_k, p_k):\n",
    "    \n",
    "    # Define number of distributions\n",
    "    K = xi.shape[0]\n",
    "\n",
    "    # Define number of atoms per sample\n",
    "    N = xi.shape[1]\n",
    "    \n",
    "    # Dec Var\n",
    "    mu = cp.Variable((K, N))\n",
    "    lam = cp.Variable((K, 1))\n",
    "\n",
    "    # Obj\n",
    "    obj = cp.Maximize(-sum(sum(cp.multiply(mu, p_k))))\n",
    "\n",
    "    # Cons\n",
    "    cons = [lam >= 0]\n",
    "    cons = [sum(lam) == 1]\n",
    "    for alpha in product(*[range(len(xi[k])) for k in range(K)]):\n",
    "        for xi_0 in xi_k.flatten():\n",
    "            sum_lam = 0\n",
    "            sum_mu = 0\n",
    "            for k in range(K):\n",
    "                sum_lam += lam[k]*cp.norm(xi_0 - xi[k, alpha[k]], 1)\n",
    "                sum_mu += mu[k, alpha[k]]\n",
    "            cons.append(sum_lam >= - sum_mu)\n",
    "            #print(len(mu[:, alpha[0]]))\n",
    "            #print(len(lam*cp.norm(xi_0 - xi[:, alpha[0]], 1)))\n",
    "\n",
    "    # Solve program\n",
    "    problem = cp.Problem(obj, cons)\n",
    "    problem.solve(solver = cp.SCIPY, scipy_options={\"method\": \"highs\"})\n",
    "    \n",
    "    return obj.value"
   ]
  },
  {
   "cell_type": "code",
   "execution_count": 3,
   "id": "9503ccc8",
   "metadata": {},
   "outputs": [],
   "source": [
    "def two_app(xi_k, p_k):\n",
    "    N_k = []\n",
    "    K = len(p_k)\n",
    "    c_k = []\n",
    "    S = xi_k.flatten()\n",
    "    N_s = len(S)\n",
    "    \n",
    "    \n",
    "    for k in range(K):\n",
    "        N_k.append(len(p_k[k]))\n",
    "        \n",
    "    for k in range(K):\n",
    "        # Create cost matrix (l-1 norm used)\n",
    "        c = np.zeros((N_s, N_k[k]))\n",
    "        for i in range(len(S)):\n",
    "            for j in range((N_k[k])):\n",
    "                c[i, j] = np.abs(S[i] - xi_k[k, j]) # l-1 norm\n",
    "        c_k.append(c)\n",
    "    \n",
    "    # Dec Var\n",
    "    T = [cp.Variable((N_s, N_k[k])) for k in range(K)]\n",
    "    epsilon = cp.Variable((1, 1))\n",
    "    p = cp.Variable((N_s))\n",
    "\n",
    "    # Obj\n",
    "    obj = cp.Minimize(epsilon)\n",
    "\n",
    "    cons = []\n",
    "\n",
    "    # Cons\n",
    "    for k in range(K):\n",
    "        cons.append(T[k] >= 0)\n",
    "        #cons.append(sum(sum(cp.multiply(T[k], c))) <= epsilon)\n",
    "        cons.append(cp.trace(c_k[k].T@T[k]) <= epsilon)\n",
    "        cons.append(T[k]@np.ones(N_k[k]) == p)\n",
    "        cons.append(T[k].T@np.ones(N_s) == p_k[k])\n",
    "\n",
    "    # Solve program\n",
    "    problem = cp.Problem(obj, cons)\n",
    "    problem.solve(solver = cp.SCIPY, scipy_options={\"method\": \"highs\"})\n",
    "    \n",
    "    return obj.value"
   ]
  },
  {
   "cell_type": "code",
   "execution_count": 87,
   "id": "85b5770d",
   "metadata": {},
   "outputs": [],
   "source": [
    "# Read data (FOR NOW GENERATE PSEUDO RANDOM NORMAL SEQUENCE)\n",
    "K_max = 7\n",
    "N = 3\n",
    "time_exact = []\n",
    "time_approx = []\n",
    "result_ex = []\n",
    "result_ap = []\n",
    "for K in range(2, K_max):\n",
    "    xi = np.random.normal(size = (K, N))\n",
    "\n",
    "    # Define probability matrix\n",
    "    p_k = (1/N)*np.ones((K, N))\n",
    "\n",
    "    start = time.time()\n",
    "    result_ex.append(exact_form(xi, p_k))\n",
    "    end = time.time()\n",
    "    time_exact.append(end-start)\n",
    "\n",
    "    start = time.time()\n",
    "    result_ap.append(two_app(xi, p_k))\n",
    "    end = time.time()\n",
    "    time_approx.append(end-start)\n"
   ]
  },
  {
   "cell_type": "code",
   "execution_count": 88,
   "id": "fff6ae5b",
   "metadata": {},
   "outputs": [
    {
     "name": "stdout",
     "output_type": "stream",
     "text": [
      "[0.13428020477294922, 0.7476344108581543, 3.3226208686828613, 13.573973178863525, 68.85185289382935] [0.010019540786743164, 0.022248268127441406, 0.015466690063476562, 0.019191980361938477, 0.02977919578552246]\n"
     ]
    }
   ],
   "source": [
    "print(time_exact, time_approx)"
   ]
  },
  {
   "cell_type": "code",
   "execution_count": 91,
   "id": "fd6de06d",
   "metadata": {},
   "outputs": [
    {
     "data": {
      "image/png": "[encoded data removed]",
      "text/plain": [
       "<Figure size 432x288 with 2 Axes>"
      ]
     },
     "metadata": {
      "needs_background": "light"
     },
     "output_type": "display_data"
    }
   ],
   "source": [
    "fig, ax1 = plt.subplots(figsize = (6,4))\n",
    "\n",
    "ax1.plot(range(2, K_max), time_exact, '^--', color = 'k', label = 'Running time exact')\n",
    "ax1.plot(range(2,K_max), time_approx, 's--', color = 'k', label = 'Running time approx')\n",
    "#ax1.set_yscale('log')\n",
    "ax2 = ax1.twinx()\n",
    "ax2.plot(range(2,K_max), 1 - np.divide(result_ap, result_ex), label='Approximation gap')\n",
    "ax2.set_ylim([-1, 2])\n",
    "ax1.set_xlabel('Number of samples $K$')\n",
    "ax1.set_ylabel('Running time (s)', color='k', weight=\"bold\")\n",
    "ax2.set_ylabel('Approximation gap', color='tab:blue', weight=\"bold\")\n",
    "\n",
    "ax1.legend()\n",
    "#ax2.legend()\n",
    "\n",
    "plt.locator_params(axis='x', nbins = K_max-2)\n",
    "plt.title('Exact vs. Approximation')\n",
    "\n",
    "plt.savefig('approx.pdf')"
   ]
  },
  {
   "cell_type": "code",
   "execution_count": null,
   "id": "ac1bf474",
   "metadata": {},
   "outputs": [],
   "source": []
  },
  {
   "cell_type": "code",
   "execution_count": null,
   "id": "4fdc048a",
   "metadata": {},
   "outputs": [],
   "source": []
  },
  {
   "cell_type": "code",
   "execution_count": 7,
   "id": "7a510132",
   "metadata": {},
   "outputs": [
    {
     "data": {
      "text/plain": [
       "0.25208"
      ]
     },
     "execution_count": 7,
     "metadata": {},
     "output_type": "execute_result"
    }
   ],
   "source": [
    "K = 100000\n",
    "\n",
    "results = []\n",
    "for k in range(K):\n",
    "    a = np.sort(np.random.rand(2))\n",
    "    segment = np.sort(np.array([a[0], a[1]-a[0], 1-a[1]]))\n",
    "\n",
    "    results.append(int(segment[0] + segment[1] >= segment[2]))\n",
    "    \n",
    "sum(results)/K    "
   ]
  },
  {
   "cell_type": "code",
   "execution_count": 21,
   "id": "40b665a6",
   "metadata": {},
   "outputs": [
    {
     "data": {
      "text/plain": [
       "18.432000000000002"
      ]
     },
     "execution_count": 21,
     "metadata": {},
     "output_type": "execute_result"
    }
   ],
   "source": [
    ".2*((24**4)/60)/60"
   ]
  },
  {
   "cell_type": "code",
   "execution_count": null,
   "id": "53d798e8",
   "metadata": {},
   "outputs": [],
   "source": []
  }
 ],
 "metadata": {
  "kernelspec": {
   "display_name": "Python 3 (ipykernel)",
   "language": "python",
   "name": "python3"
  },
  "language_info": {
   "codemirror_mode": {
    "name": "ipython",
    "version": 3
   },
   "file_extension": ".py",
   "mimetype": "text/x-python",
   "name": "python",
   "nbconvert_exporter": "python",
   "pygments_lexer": "ipython3",
   "version": "3.9.7"
  }
 },
 "nbformat": 4,
 "nbformat_minor": 5
}
