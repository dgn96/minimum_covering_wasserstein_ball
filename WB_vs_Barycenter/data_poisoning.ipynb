{
 "cells": [
  {
   "cell_type": "code",
   "execution_count": 1,
   "id": "82315788",
   "metadata": {},
   "outputs": [],
   "source": [
    "import numpy as np\n",
    "import cvxpy as cp\n",
    "from itertools import product\n",
    "import matplotlib.pyplot as plt"
   ]
  },
  {
   "cell_type": "code",
   "execution_count": 2,
   "id": "e911eefa",
   "metadata": {},
   "outputs": [],
   "source": [
    "from sklearn.datasets import load_digits\n",
    "digits = load_digits()"
   ]
  },
  {
   "cell_type": "code",
   "execution_count": 3,
   "id": "3d7176ad",
   "metadata": {},
   "outputs": [],
   "source": [
    "def MCWB(c, p_k):\n",
    "    N = len(p_k[0])\n",
    "    K = len(p_k)\n",
    "    \n",
    "    # Dec Var\n",
    "    T = [cp.Variable((N, N)) for k in range(K)]\n",
    "    epsilon = cp.Variable((1, 1))\n",
    "    p = cp.Variable((N))\n",
    "\n",
    "    # Obj\n",
    "    obj = cp.Minimize(epsilon)\n",
    "\n",
    "    cons = []\n",
    "    # Cons\n",
    "    for k in range(K):\n",
    "        cons.append(T[k] >= 0)\n",
    "        #cons.append(sum(sum(cp.multiply(T[k], c))) <= epsilon)\n",
    "        cons.append(cp.trace(c.T@T[k]) <= epsilon)\n",
    "        cons.append(T[k]@np.ones(N) == p)\n",
    "        cons.append(T[k].T@np.ones(N) == p_k[k])\n",
    "\n",
    "    # Solve program\n",
    "    problem = cp.Problem(obj, cons)\n",
    "    problem.solve(solver = cp.SCIPY, scipy_options={\"method\": \"highs\"})\n",
    "    \n",
    "    return p"
   ]
  },
  {
   "cell_type": "code",
   "execution_count": 4,
   "id": "e9869e20",
   "metadata": {},
   "outputs": [],
   "source": [
    "def WB(c, p_k, lambdas):\n",
    "    N = len(p_k[0])\n",
    "    K = len(p_k)\n",
    "    \n",
    "    # Dec Var\n",
    "    T = [cp.Variable((N, N)) for k in range(K)]\n",
    "    epsilon = cp.Variable((K, 1))\n",
    "    p = cp.Variable((N))\n",
    "\n",
    "    # Obj\n",
    "    obj = cp.Minimize(epsilon.T@lambdas)\n",
    "\n",
    "    cons = []\n",
    "    # Cons\n",
    "    for k in range(K):\n",
    "        cons.append(T[k] >= 0)\n",
    "        #cons.append(sum(sum(cp.multiply(T[k], c))) <= epsilon)\n",
    "        cons.append(cp.trace(c.T@T[k]) <= epsilon[k])\n",
    "        cons.append(T[k]@np.ones(N) == p)\n",
    "        cons.append(T[k].T@np.ones(N) == p_k[k])\n",
    "\n",
    "    # Solve program\n",
    "    problem = cp.Problem(obj, cons)\n",
    "    problem.solve(solver = cp.SCIPY, scipy_options={\"method\": \"highs\"})\n",
    "    \n",
    "    return p"
   ]
  },
  {
   "cell_type": "code",
   "execution_count": null,
   "id": "5e2b7744",
   "metadata": {},
   "outputs": [],
   "source": []
  },
  {
   "cell_type": "code",
   "execution_count": 5,
   "id": "59d88c08",
   "metadata": {},
   "outputs": [],
   "source": [
    "# select cifre to analyze\n",
    "digit = 0\n",
    "\n",
    "N = 2**8\n",
    "\n",
    "# Define support for xi\n",
    "N_euc = int(np.sqrt(N))\n",
    "\n",
    "# Create cost matrix (l-2 norm used for the moment)\n",
    "c = np.zeros((N, N))\n",
    "for i, mi in enumerate(list(product(np.arange(N_euc), np.arange(N_euc)))):\n",
    "    for j, mj in enumerate(list(product(np.arange(N_euc), np.arange(N_euc)))):\n",
    "        c[i, j] = np.linalg.norm(np.array(mi)- np.array(mj), 2)**2 # l-2 norm"
   ]
  },
  {
   "cell_type": "code",
   "execution_count": 6,
   "id": "80af55b3",
   "metadata": {},
   "outputs": [],
   "source": [
    "# select k\n",
    "K_list = [2, 5, 10, 15, 20]\n",
    "p_m = []\n",
    "p_b = []\n",
    "p_av = []\n",
    "for i, K in enumerate(K_list):\n",
    "    # Save p_k\n",
    "    p_k = []\n",
    "\n",
    "    shift = (0, -4) \n",
    "    k = np.where(digits.target == digit)[0][0]\n",
    "    new_digits = np.zeros((16, 16))\n",
    "    new_digits[4 + int(shift[0]): 12 + int(shift[0]), 4 + int(shift[1]):12 + int(shift[1])] = digits.images[k]\n",
    "    p_k.append(np.array(new_digits.flatten())/sum(np.array(new_digits.flatten())))\n",
    "    \n",
    "    # Loop in number of digits\n",
    "    for k in np.where(digits.target == digit)[0][1:K]:\n",
    "\n",
    "        # Create a random shift for each sample\n",
    "        shift = (0, 4) \n",
    "\n",
    "        # Create the new image with the shift in 16x16 pixel array\n",
    "        new_digits = np.zeros((16, 16))\n",
    "        new_digits[4 + int(shift[0]): 12 + int(shift[0]), 4 + int(shift[1]):12 + int(shift[1])] = digits.images[k]\n",
    "        p_k.append(np.array(new_digits.flatten())/sum(np.array(new_digits.flatten())))\n",
    "        \n",
    "    p_m.append(MCWB(c, p_k))\n",
    "    p_b.append(WB(c, p_k, np.ones((K))/K))\n",
    "    p_av.append(sum(p_k))\n",
    "    \n",
    "\n"
   ]
  },
  {
   "cell_type": "code",
   "execution_count": 21,
   "id": "2feca5c0",
   "metadata": {},
   "outputs": [
    {
     "data": {
      "text/plain": [
       "<Figure size 432x288 with 0 Axes>"
      ]
     },
     "metadata": {},
     "output_type": "display_data"
    },
    {
     "data": {
      "image/png": "[encoded data removed]",
      "text/plain": [
       "<Figure size 576x288 with 15 Axes>"
      ]
     },
     "metadata": {},
     "output_type": "display_data"
    }
   ],
   "source": [
    "plt.gray()\n",
    "fig, ax = plt.subplots(3, 5, figsize = (8, 4))\n",
    "\n",
    "for i, k in enumerate(K_list):\n",
    "    p_opt_m = p_m[i].value.reshape(N_euc, N_euc)\n",
    "    p_opt_b = p_b[i].value.reshape(N_euc, N_euc)\n",
    "    p_opt_av = p_av[i].reshape(N_euc, N_euc)\n",
    "    ax[0, i].imshow(p_opt_m)\n",
    "    ax[1, i].imshow(p_opt_b)\n",
    "    ax[2, i].imshow(p_opt_av)\n",
    "\n",
    "ax[0, 0].set_ylabel('MCWB')\n",
    "ax[1, 0].set_ylabel('WB')\n",
    "ax[2, 0].set_ylabel('Mean')\n",
    "plt.setp(ax, xticks=[], yticks=[])\n",
    "\n",
    "for i, k in enumerate(K_list):\n",
    "    ax[0, i].set_title(str(k - 1) + ' samples')\n",
    "    \n",
    "plt.tight_layout()\n",
    "\n",
    "plt.savefig('poison.pdf')"
   ]
  },
  {
   "cell_type": "code",
   "execution_count": null,
   "id": "efb9e37d",
   "metadata": {},
   "outputs": [],
   "source": []
  },
  {
   "cell_type": "code",
   "execution_count": null,
   "id": "e7da2e4d",
   "metadata": {},
   "outputs": [],
   "source": []
  },
  {
   "cell_type": "code",
   "execution_count": null,
   "id": "95a464e2",
   "metadata": {},
   "outputs": [],
   "source": []
  },
  {
   "cell_type": "code",
   "execution_count": null,
   "id": "419c144d",
   "metadata": {},
   "outputs": [],
   "source": []
  }
 ],
 "metadata": {
  "kernelspec": {
   "display_name": "Python 3 (ipykernel)",
   "language": "python",
   "name": "python3"
  },
  "language_info": {
   "codemirror_mode": {
    "name": "ipython",
    "version": 3
   },
   "file_extension": ".py",
   "mimetype": "text/x-python",
   "name": "python",
   "nbconvert_exporter": "python",
   "pygments_lexer": "ipython3",
   "version": "3.9.7"
  }
 },
 "nbformat": 4,
 "nbformat_minor": 5
}
