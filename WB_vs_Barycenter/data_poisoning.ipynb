{
 "cells": [
  {
   "cell_type": "code",
   "execution_count": 1,
   "id": "76fee51c",
   "metadata": {},
   "outputs": [],
   "source": [
    "import numpy as np\n",
    "import cvxpy as cp\n",
    "from itertools import product\n",
    "import matplotlib.pyplot as plt"
   ]
  },
  {
   "cell_type": "code",
   "execution_count": 2,
   "id": "709a8f25",
   "metadata": {},
   "outputs": [],
   "source": [
    "from sklearn.datasets import load_digits\n",
    "digits = load_digits()"
   ]
  },
  {
   "cell_type": "code",
   "execution_count": 3,
   "id": "9d984eaa",
   "metadata": {},
   "outputs": [],
   "source": [
    "def MCWB(c, p_k):\n",
    "    N = len(p_k[0])\n",
    "    K = len(p_k)\n",
    "    \n",
    "    # Dec Var\n",
    "    T = [cp.Variable((N, N)) for k in range(K)]\n",
    "    epsilon = cp.Variable((1, 1))\n",
    "    p = cp.Variable((N))\n",
    "\n",
    "    # Obj\n",
    "    obj = cp.Minimize(epsilon)\n",
    "\n",
    "    cons = []\n",
    "    # Cons\n",
    "    for k in range(K):\n",
    "        cons.append(T[k] >= 0)\n",
    "        #cons.append(sum(sum(cp.multiply(T[k], c))) <= epsilon)\n",
    "        cons.append(cp.trace(c.T@T[k]) <= epsilon)\n",
    "        cons.append(T[k]@np.ones(N) == p)\n",
    "        cons.append(T[k].T@np.ones(N) == p_k[k])\n",
    "\n",
    "    # Solve program\n",
    "    problem = cp.Problem(obj, cons)\n",
    "    problem.solve(solver = cp.SCIPY, scipy_options={\"method\": \"highs\"})\n",
    "    \n",
    "    return p"
   ]
  },
  {
   "cell_type": "code",
   "execution_count": 4,
   "id": "e2300a49",
   "metadata": {},
   "outputs": [],
   "source": [
    "def WB(c, p_k, lambdas):\n",
    "    N = len(p_k[0])\n",
    "    K = len(p_k)\n",
    "    \n",
    "    # Dec Var\n",
    "    T = [cp.Variable((N, N)) for k in range(K)]\n",
    "    epsilon = cp.Variable((K, 1))\n",
    "    p = cp.Variable((N))\n",
    "\n",
    "    # Obj\n",
    "    obj = cp.Minimize(epsilon.T@lambdas)\n",
    "\n",
    "    cons = []\n",
    "    # Cons\n",
    "    for k in range(K):\n",
    "        cons.append(T[k] >= 0)\n",
    "        #cons.append(sum(sum(cp.multiply(T[k], c))) <= epsilon)\n",
    "        cons.append(cp.trace(c.T@T[k]) <= epsilon[k])\n",
    "        cons.append(T[k]@np.ones(N) == p)\n",
    "        cons.append(T[k].T@np.ones(N) == p_k[k])\n",
    "\n",
    "    # Solve program\n",
    "    problem = cp.Problem(obj, cons)\n",
    "    problem.solve(solver = cp.SCIPY, scipy_options={\"method\": \"highs\"})\n",
    "    \n",
    "    return p"
   ]
  },
  {
   "cell_type": "code",
   "execution_count": 5,
   "id": "cddf1096",
   "metadata": {},
   "outputs": [],
   "source": [
    "# select k\n",
    "K = 15\n",
    "\n",
    "# select cifre to analyze\n",
    "digit = 0\n",
    "\n",
    "# Save p_k\n",
    "p_k = []\n",
    "\n",
    "shift = (0, -4) \n",
    "k = np.where(digits.target == digit)[0][0]\n",
    "new_digits = np.zeros((16, 16))\n",
    "new_digits[4 + int(shift[0]): 12 + int(shift[0]), 4 + int(shift[1]):12 + int(shift[1])] = digits.images[k]\n",
    "p_k.append(np.array(new_digits.flatten())/sum(np.array(new_digits.flatten())))\n",
    "\n",
    "# Loop in number of digits\n",
    "for k in np.where(digits.target == digit)[0][1:K]:\n",
    "    \n",
    "    # Create a random shift for each sample\n",
    "    shift = (0, 4) \n",
    "    \n",
    "    # Create the new image with the shift in 16x16 pixel array\n",
    "    new_digits = np.zeros((16, 16))\n",
    "    new_digits[4 + int(shift[0]): 12 + int(shift[0]), 4 + int(shift[1]):12 + int(shift[1])] = digits.images[k]\n",
    "    p_k.append(np.array(new_digits.flatten())/sum(np.array(new_digits.flatten())))\n",
    "\n",
    "N = len(p_k[0])"
   ]
  },
  {
   "cell_type": "code",
   "execution_count": 6,
   "id": "c84f5185",
   "metadata": {},
   "outputs": [],
   "source": [
    "# Define support for xi\n",
    "N_euc = int(np.sqrt(N))\n",
    "\n",
    "# Create cost matrix (l-2 norm used for the moment)\n",
    "c = np.zeros((N, N))\n",
    "for i, mi in enumerate(list(product(np.arange(N_euc), np.arange(N_euc)))):\n",
    "    for j, mj in enumerate(list(product(np.arange(N_euc), np.arange(N_euc)))):\n",
    "        c[i, j] = np.linalg.norm(np.array(mi)- np.array(mj), 2)**2 # l-2 norm"
   ]
  },
  {
   "cell_type": "code",
   "execution_count": 7,
   "id": "86a08f7e",
   "metadata": {},
   "outputs": [],
   "source": [
    "p_m = MCWB(c, p_k)\n",
    "p_b = WB(c, p_k, np.ones((K))/K)"
   ]
  },
  {
   "cell_type": "code",
   "execution_count": 8,
   "id": "cd51458b",
   "metadata": {},
   "outputs": [
    {
     "data": {
      "text/plain": [
       "<matplotlib.image.AxesImage at 0x1db065b26d0>"
      ]
     },
     "execution_count": 8,
     "metadata": {},
     "output_type": "execute_result"
    },
    {
     "data": {
      "text/plain": [
       "<Figure size 432x288 with 0 Axes>"
      ]
     },
     "metadata": {},
     "output_type": "display_data"
    },
    {
     "data": {
      "image/png": "[encoded data removed]",
      "text/plain": [
       "<Figure size 432x288 with 3 Axes>"
      ]
     },
     "metadata": {
      "needs_background": "light"
     },
     "output_type": "display_data"
    }
   ],
   "source": [
    "p_opt_m = p_m.value.reshape(N_euc, N_euc)\n",
    "p_opt_b = p_b.value.reshape(N_euc, N_euc)\n",
    "p_mean = p_k[0].reshape((N_euc, N_euc)).copy()\n",
    "for i in range(1,K):\n",
    "    p_mean += p_k[i].reshape((N_euc, N_euc))\n",
    "    \n",
    "plt.gray()\n",
    "\n",
    "fig, ax = plt.subplots(3, 1)\n",
    "ax[0].imshow(p_opt_m)\n",
    "ax[1].imshow(p_opt_b)\n",
    "ax[2].imshow(p_mean)"
   ]
  },
  {
   "cell_type": "code",
   "execution_count": null,
   "id": "e6e98b10",
   "metadata": {},
   "outputs": [],
   "source": []
  },
  {
   "cell_type": "code",
   "execution_count": null,
   "id": "ed893c85",
   "metadata": {},
   "outputs": [],
   "source": []
  }
 ],
 "metadata": {
  "kernelspec": {
   "display_name": "Python 3 (ipykernel)",
   "language": "python",
   "name": "python3"
  },
  "language_info": {
   "codemirror_mode": {
    "name": "ipython",
    "version": 3
   },
   "file_extension": ".py",
   "mimetype": "text/x-python",
   "name": "python",
   "nbconvert_exporter": "python",
   "pygments_lexer": "ipython3",
   "version": "3.9.7"
  }
 },
 "nbformat": 4,
 "nbformat_minor": 5
}
