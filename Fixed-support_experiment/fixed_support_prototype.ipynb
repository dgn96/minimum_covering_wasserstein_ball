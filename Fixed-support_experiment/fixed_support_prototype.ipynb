{
 "cells": [
  {
   "cell_type": "markdown",
   "id": "766a48c9",
   "metadata": {},
   "source": [
    "# Minimum covering Wasserstein ball - Fixed support experiment \n",
    "\n",
    "### Load libraries"
   ]
  },
  {
   "cell_type": "code",
   "execution_count": 1,
   "id": "f5ec3beb",
   "metadata": {},
   "outputs": [],
   "source": [
    "import numpy as np\n",
    "import cvxpy as cp\n",
    "from itertools import product\n",
    "import matplotlib.pyplot as plt"
   ]
  },
  {
   "cell_type": "markdown",
   "id": "9375c4b3",
   "metadata": {},
   "source": [
    "### Load Dataset: MINST 8x8 pixels"
   ]
  },
  {
   "cell_type": "code",
   "execution_count": 2,
   "id": "db1bde78",
   "metadata": {},
   "outputs": [],
   "source": [
    "from sklearn.datasets import load_digits\n",
    "digits = load_digits()"
   ]
  },
  {
   "cell_type": "markdown",
   "id": "d4f2a12c",
   "metadata": {},
   "source": [
    "### Load $\\hat{p}s$"
   ]
  },
  {
   "cell_type": "code",
   "execution_count": 3,
   "id": "553089b8",
   "metadata": {},
   "outputs": [],
   "source": [
    "# select k\n",
    "K = 3\n",
    "\n",
    "# select cifre to analyze\n",
    "cifre = 3\n",
    "\n",
    "# Save p_k\n",
    "p_k = [np.array(digits.images[k].flatten()) for k in np.where(digits.target == cifre)[0][0:K]]\n",
    "\n",
    "# Define support for T\n",
    "N = len(p_k[0])"
   ]
  },
  {
   "cell_type": "markdown",
   "id": "d21874cb",
   "metadata": {},
   "source": [
    "### Create cost function matrix (for now we use $l$-2 norm, probably not very efficient)"
   ]
  },
  {
   "cell_type": "code",
   "execution_count": 4,
   "id": "c41e23c9",
   "metadata": {},
   "outputs": [
    {
     "data": {
      "text/plain": [
       "<matplotlib.image.AxesImage at 0x18281e34490>"
      ]
     },
     "execution_count": 4,
     "metadata": {},
     "output_type": "execute_result"
    },
    {
     "data": {
      "image/png": "[encoded data removed]",
      "text/plain": [
       "<Figure size 432x288 with 1 Axes>"
      ]
     },
     "metadata": {
      "needs_background": "light"
     },
     "output_type": "display_data"
    }
   ],
   "source": [
    "# Define support for xi\n",
    "N_euc = int(np.sqrt(N))\n",
    "\n",
    "# Create cost matrix (l-2 norm used for the moment)\n",
    "c = np.zeros((N, N))\n",
    "for i, mi in enumerate(list(product(np.arange(N_euc), np.arange(N_euc)))):\n",
    "    for j, mj in enumerate(list(product(np.arange(N_euc), np.arange(N_euc)))):\n",
    "        c[i, j] = np.linalg.norm(np.array(mi)- np.array(mj))\n",
    "\n",
    "# Plot\n",
    "plt.imshow(c)"
   ]
  },
  {
   "cell_type": "markdown",
   "id": "29c9ac63",
   "metadata": {},
   "source": [
    "## Define optmization program in CVXPY"
   ]
  },
  {
   "cell_type": "code",
   "execution_count": 5,
   "id": "9261e39b",
   "metadata": {},
   "outputs": [
    {
     "data": {
      "text/plain": [
       "2.0203703861164737e-11"
      ]
     },
     "execution_count": 5,
     "metadata": {},
     "output_type": "execute_result"
    }
   ],
   "source": [
    "# Dec Var\n",
    "T = [cp.Variable((N, N)) for k in range(K)]\n",
    "epsilon = cp.Variable((1, 1))\n",
    "p = cp.Variable((N))\n",
    "\n",
    "# Obj\n",
    "obj = cp.Minimize(epsilon)\n",
    "\n",
    "# Cons\n",
    "for k in range(K):\n",
    "    cons = [T[k] >= 0]\n",
    "    #cons.append(sum(sum(cp.multiply(T[k], c))) <= epsilon)\n",
    "    cons.append(cp.trace(c.T@T[k]) <= epsilon)\n",
    "    cons.append(T[k]@np.ones(N) == p)\n",
    "    cons.append(T[k].T@np.ones(N) == p_k[k])\n",
    "\n",
    "# Solve program\n",
    "problem = cp.Problem(obj, cons)\n",
    "problem.solve()"
   ]
  },
  {
   "cell_type": "markdown",
   "id": "942ff042",
   "metadata": {},
   "source": [
    "### Create 2-D render of the optimal distribution"
   ]
  },
  {
   "cell_type": "code",
   "execution_count": 6,
   "id": "7cf2f194",
   "metadata": {},
   "outputs": [],
   "source": [
    "p_opt = [p.value[i*N_euc:N_euc*(i + 1)] for i in range(N_euc)]"
   ]
  },
  {
   "cell_type": "code",
   "execution_count": 7,
   "id": "43ecc76b",
   "metadata": {},
   "outputs": [
    {
     "data": {
      "text/plain": [
       "<matplotlib.image.AxesImage at 0x18281d09070>"
      ]
     },
     "execution_count": 7,
     "metadata": {},
     "output_type": "execute_result"
    },
    {
     "data": {
      "image/png": "[encoded data removed]",
      "text/plain": [
       "<Figure size 432x288 with 1 Axes>"
      ]
     },
     "metadata": {
      "needs_background": "light"
     },
     "output_type": "display_data"
    }
   ],
   "source": [
    "plt.gray()\n",
    "plt.imshow(p_opt)"
   ]
  }
 ],
 "metadata": {
  "kernelspec": {
   "display_name": "Python 3 (ipykernel)",
   "language": "python",
   "name": "python3"
  },
  "language_info": {
   "codemirror_mode": {
    "name": "ipython",
    "version": 3
   },
   "file_extension": ".py",
   "mimetype": "text/x-python",
   "name": "python",
   "nbconvert_exporter": "python",
   "pygments_lexer": "ipython3",
   "version": "3.9.7"
  }
 },
 "nbformat": 4,
 "nbformat_minor": 5
}
