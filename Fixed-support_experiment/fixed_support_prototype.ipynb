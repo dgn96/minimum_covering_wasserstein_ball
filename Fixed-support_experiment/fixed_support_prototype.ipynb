{
 "cells": [
  {
   "cell_type": "code",
   "execution_count": 9,
   "id": "4e79b442",
   "metadata": {},
   "outputs": [],
   "source": [
    "import numpy as np\n",
    "import cvxpy as cp\n",
    "import matplotlib.pyplot as plt"
   ]
  },
  {
   "cell_type": "code",
   "execution_count": 18,
   "id": "95e969af",
   "metadata": {},
   "outputs": [
    {
     "name": "stdout",
     "output_type": "stream",
     "text": [
      "1 10\n"
     ]
    }
   ],
   "source": [
    "# Read data (FOR NOW GENERATE PSEUDO RANDOM NORMAL SEQUENCE)\n",
    "xi = np.random.normal(size = (1, 10))\n",
    "\n",
    "# Define number of distributions\n",
    "K = xi.shape[0]\n",
    "\n",
    "# Define number of atoms per sample\n",
    "N = xi.shape[1]\n",
    "\n",
    "# Define probability matrix\n",
    "p = (1/N)*np.ones(N)\n",
    "\n",
    "print(K, N)"
   ]
  },
  {
   "cell_type": "code",
   "execution_count": 19,
   "id": "9cdce721",
   "metadata": {},
   "outputs": [
    {
     "data": {
      "text/plain": [
       "<matplotlib.image.AxesImage at 0x2908497f400>"
      ]
     },
     "execution_count": 19,
     "metadata": {},
     "output_type": "execute_result"
    },
    {
     "data": {
      "image/png": "[encoded data removed]",
      "text/plain": [
       "<Figure size 432x288 with 1 Axes>"
      ]
     },
     "metadata": {
      "needs_background": "light"
     },
     "output_type": "display_data"
    }
   ],
   "source": [
    "c = np.zeros((N, N))\n",
    "for i in range(N):\n",
    "    for j in range(N):\n",
    "        c[i,j] = np.sqrt( xi[0, i]**2 + xi[0, j]**2)\n",
    " \n",
    "plt.imshow(c)"
   ]
  },
  {
   "cell_type": "code",
   "execution_count": 21,
   "id": "afe01689",
   "metadata": {},
   "outputs": [
    {
     "data": {
      "text/plain": [
       "-inf"
      ]
     },
     "execution_count": 21,
     "metadata": {},
     "output_type": "execute_result"
    }
   ],
   "source": [
    "# Dec Var\n",
    "T = cp.Variable((N, N))\n",
    "epsilon = cp.Variable((1, 1))\n",
    "\n",
    "# Obj\n",
    "obj = cp.Minimize(epsilon)\n",
    "\n",
    "# Cons\n",
    "cons = [T >= 0]\n",
    "\n",
    "cons.append(cp.trace(T@c) <= epsilon)\n",
    "cons.append(T@np.ones(N) == p)\n",
    "cons.append(T.T@np.ones(N) == p)\n",
    "\n",
    "# Solve program\n",
    "problem = cp.Problem(obj, cons)\n",
    "problem.solve()"
   ]
  },
  {
   "cell_type": "code",
   "execution_count": 17,
   "id": "b4148a8c",
   "metadata": {},
   "outputs": [
    {
     "data": {
      "text/plain": [
       "array([[0.1, 0.1, 0.1, 0.1, 0.1, 0.1, 0.1, 0.1, 0.1, 0.1]])"
      ]
     },
     "execution_count": 17,
     "metadata": {},
     "output_type": "execute_result"
    }
   ],
   "source": [
    "p"
   ]
  }
 ],
 "metadata": {
  "kernelspec": {
   "display_name": "Python 3 (ipykernel)",
   "language": "python",
   "name": "python3"
  },
  "language_info": {
   "codemirror_mode": {
    "name": "ipython",
    "version": 3
   },
   "file_extension": ".py",
   "mimetype": "text/x-python",
   "name": "python",
   "nbconvert_exporter": "python",
   "pygments_lexer": "ipython3",
   "version": "3.9.7"
  }
 },
 "nbformat": 4,
 "nbformat_minor": 5
}
