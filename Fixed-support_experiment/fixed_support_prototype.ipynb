{
 "cells": [
  {
   "cell_type": "markdown",
   "id": "766a48c9",
   "metadata": {},
   "source": [
    "# Minimum covering Wasserstein ball - Fixed support experiment \n",
    "\n",
    "### Load libraries"
   ]
  },
  {
   "cell_type": "code",
   "execution_count": 1,
   "id": "f5ec3beb",
   "metadata": {},
   "outputs": [],
   "source": [
    "import numpy as np\n",
    "import cvxpy as cp\n",
    "from itertools import product\n",
    "import matplotlib.pyplot as plt"
   ]
  },
  {
   "cell_type": "markdown",
   "id": "9375c4b3",
   "metadata": {},
   "source": [
    "### Load Dataset: MINST 8x8 pixels"
   ]
  },
  {
   "cell_type": "code",
   "execution_count": 2,
   "id": "db1bde78",
   "metadata": {},
   "outputs": [],
   "source": [
    "from sklearn.datasets import load_digits\n",
    "digits = load_digits()"
   ]
  },
  {
   "cell_type": "markdown",
   "id": "d4f2a12c",
   "metadata": {},
   "source": [
    "### Load $\\hat{p}s$"
   ]
  },
  {
   "cell_type": "code",
   "execution_count": 3,
   "id": "553089b8",
   "metadata": {},
   "outputs": [],
   "source": [
    "# select k\n",
    "K = 15\n",
    "\n",
    "# select cifre to analyze\n",
    "digit = 3\n",
    "\n",
    "# Save p_k\n",
    "p_k = [np.array(digits.images[k].flatten())/sum(np.array(digits.images[k].flatten())) for k in np.where(digits.target == digit)[0][0:K]]\n",
    "\n",
    "# Define support for T\n",
    "N = len(p_k[0])"
   ]
  },
  {
   "cell_type": "markdown",
   "id": "29c8d6a6",
   "metadata": {},
   "source": [
    "### Create cost function matrix (for now we use $l$-2 norm, probably not very efficient)"
   ]
  },
  {
   "cell_type": "code",
   "execution_count": 4,
   "id": "c41e23c9",
   "metadata": {},
   "outputs": [
    {
     "data": {
      "text/plain": [
       "<matplotlib.image.AxesImage at 0x20184953370>"
      ]
     },
     "execution_count": 4,
     "metadata": {},
     "output_type": "execute_result"
    },
    {
     "data": {
      "image/png": "[encoded data removed]",
      "text/plain": [
       "<Figure size 432x288 with 1 Axes>"
      ]
     },
     "metadata": {
      "needs_background": "light"
     },
     "output_type": "display_data"
    }
   ],
   "source": [
    "# Define support for xi\n",
    "N_euc = int(np.sqrt(N))\n",
    "\n",
    "# Create cost matrix (l-2 norm used for the moment)\n",
    "c = np.zeros((N, N))\n",
    "for i, mi in enumerate(list(product(np.arange(N_euc), np.arange(N_euc)))):\n",
    "    for j, mj in enumerate(list(product(np.arange(N_euc), np.arange(N_euc)))):\n",
    "        c[i, j] = np.linalg.norm(np.array(mi)- np.array(mj), 2)**2 # l-2 norm\n",
    "        #c[i, j] = np.linalg.norm(np.array(mi)- np.array(mj), 1) # l-1 norm\n",
    "\n",
    "# Plot\n",
    "plt.imshow(c)"
   ]
  },
  {
   "cell_type": "markdown",
   "id": "c6ee53c7",
   "metadata": {},
   "source": [
    "## Define optmization program in CVXPY"
   ]
  },
  {
   "cell_type": "code",
   "execution_count": 5,
   "id": "9261e39b",
   "metadata": {},
   "outputs": [
    {
     "data": {
      "text/plain": [
       "0.7290014976847722"
      ]
     },
     "execution_count": 5,
     "metadata": {},
     "output_type": "execute_result"
    }
   ],
   "source": [
    "# Dec Var\n",
    "T = [cp.Variable((N, N)) for k in range(K)]\n",
    "epsilon = cp.Variable((1, 1))\n",
    "p = cp.Variable((N))\n",
    "\n",
    "# Obj\n",
    "obj = cp.Minimize(epsilon)\n",
    "\n",
    "cons = []\n",
    "# Cons\n",
    "for k in range(K):\n",
    "    cons.append(T[k] >= 0)\n",
    "    #cons.append(sum(sum(cp.multiply(T[k], c))) <= epsilon)\n",
    "    cons.append(cp.trace(c.T@T[k]) <= epsilon)\n",
    "    cons.append(T[k]@np.ones(N) == p)\n",
    "    cons.append(T[k].T@np.ones(N) == p_k[k])\n",
    "\n",
    "# Solve program\n",
    "problem = cp.Problem(obj, cons)\n",
    "problem.solve(solver = cp.SCIPY, scipy_options={\"method\": \"highs\"})"
   ]
  },
  {
   "cell_type": "markdown",
   "id": "9a4a189a",
   "metadata": {},
   "source": [
    "### Create 2-D render of the optimal distribution"
   ]
  },
  {
   "cell_type": "code",
   "execution_count": 6,
   "id": "7cf2f194",
   "metadata": {},
   "outputs": [],
   "source": [
    "p_opt = [p.value[i*N_euc:N_euc*(i + 1)] for i in range(N_euc)]"
   ]
  },
  {
   "cell_type": "code",
   "execution_count": 7,
   "id": "43ecc76b",
   "metadata": {},
   "outputs": [
    {
     "data": {
      "text/plain": [
       "<matplotlib.image.AxesImage at 0x2018a278610>"
      ]
     },
     "execution_count": 7,
     "metadata": {},
     "output_type": "execute_result"
    },
    {
     "data": {
      "image/png": "[encoded data removed]",
      "text/plain": [
       "<Figure size 432x288 with 1 Axes>"
      ]
     },
     "metadata": {
      "needs_background": "light"
     },
     "output_type": "display_data"
    }
   ],
   "source": [
    "plt.gray()\n",
    "plt.imshow(p_opt)"
   ]
  },
  {
   "cell_type": "markdown",
   "id": "99e79a37",
   "metadata": {},
   "source": [
    "### Compare with arithmetic mean of pixels"
   ]
  },
  {
   "cell_type": "code",
   "execution_count": 8,
   "id": "5da7d6ca",
   "metadata": {},
   "outputs": [
    {
     "data": {
      "text/plain": [
       "<matplotlib.image.AxesImage at 0x201846b8040>"
      ]
     },
     "execution_count": 8,
     "metadata": {},
     "output_type": "execute_result"
    },
    {
     "data": {
      "image/png": "[encoded data removed]",
      "text/plain": [
       "<Figure size 288x288 with 1 Axes>"
      ]
     },
     "metadata": {
      "needs_background": "light"
     },
     "output_type": "display_data"
    }
   ],
   "source": [
    "digit_mean = p_k[0].reshape((N_euc, N_euc))\n",
    "for i in range(1,k):\n",
    "    digit_mean +=p_k[i].reshape((N_euc, N_euc))\n",
    "\n",
    "plt.matshow(digit_mean)"
   ]
  },
  {
   "cell_type": "markdown",
   "id": "92ad9914",
   "metadata": {},
   "source": [
    "# Experiment with shifted digits 16x16 pixels\n",
    "\n",
    "## Select number of samples k, create a random shift for each sample"
   ]
  },
  {
   "cell_type": "code",
   "execution_count": 76,
   "id": "9e0bc38c",
   "metadata": {},
   "outputs": [],
   "source": [
    "# select k\n",
    "K = 15\n",
    "\n",
    "# select cifre to analyze\n",
    "digit = 0\n",
    "\n",
    "# Save p_k\n",
    "p_k = []\n",
    "\n",
    "# Loop in number of digits\n",
    "for k in np.where(digits.target == digit)[0][0:K]:\n",
    "    \n",
    "    # Create a random shift for each sample\n",
    "    shift = np.round(4 - 8*np.random.rand(2))\n",
    "    \n",
    "    # Create the new image with the shift in 16x16 pixel array\n",
    "    new_digits = np.zeros((16, 16))\n",
    "    new_digits[4 + int(shift[0]): 12 + int(shift[0]), 4 + int(shift[1]):12 + int(shift[1])] = digits.images[k]\n",
    "    p_k.append(np.array(new_digits.flatten())/sum(np.array(new_digits.flatten())))\n",
    "    \n",
    "# Define support for T\n",
    "N = len(p_k[0])"
   ]
  },
  {
   "cell_type": "markdown",
   "id": "8ace85b1",
   "metadata": {},
   "source": [
    "## Create cost function matrix"
   ]
  },
  {
   "cell_type": "code",
   "execution_count": 77,
   "id": "4a42d479",
   "metadata": {},
   "outputs": [],
   "source": [
    "# Define support for xi\n",
    "N_euc = int(np.sqrt(N))\n",
    "\n",
    "# Create cost matrix (l-2 norm used for the moment)\n",
    "c = np.zeros((N, N))\n",
    "for i, mi in enumerate(list(product(np.arange(N_euc), np.arange(N_euc)))):\n",
    "    for j, mj in enumerate(list(product(np.arange(N_euc), np.arange(N_euc)))):\n",
    "        c[i, j] = np.linalg.norm(np.array(mi)- np.array(mj), 2)**2 # l-2 norm\n",
    "        #c[i, j] = np.linalg.norm(np.array(mi)- np.array(mj), 1) # l-1 norm"
   ]
  },
  {
   "cell_type": "markdown",
   "id": "bcb37355",
   "metadata": {},
   "source": [
    "## Define optimization program"
   ]
  },
  {
   "cell_type": "code",
   "execution_count": 78,
   "id": "cec30dcc",
   "metadata": {},
   "outputs": [
    {
     "data": {
      "text/plain": [
       "17.090929412726243"
      ]
     },
     "execution_count": 78,
     "metadata": {},
     "output_type": "execute_result"
    }
   ],
   "source": [
    "# Dec Var\n",
    "T = [cp.Variable((N, N)) for k in range(K)]\n",
    "epsilon = cp.Variable((1, 1))\n",
    "p = cp.Variable((N))\n",
    "\n",
    "# Obj\n",
    "obj = cp.Minimize(epsilon)\n",
    "\n",
    "# Cons\n",
    "cons = []\n",
    "for k in range(K):\n",
    "    cons.append(T[k] >= 0)\n",
    "    #cons.append(sum(sum(cp.multiply(T[k], c))) <= epsilon)\n",
    "    cons.append(cp.trace(c.T@T[k]) <= epsilon)\n",
    "    cons.append(T[k]@np.ones(N) == p)\n",
    "    cons.append(T[k].T@np.ones(N) == p_k[k])\n",
    "\n",
    "# Solve program\n",
    "problem = cp.Problem(obj, cons)\n",
    "problem.solve(solver = cp.SCIPY, scipy_options={\"method\": \"highs\"})"
   ]
  },
  {
   "cell_type": "markdown",
   "id": "b4805890",
   "metadata": {},
   "source": [
    "## Recover and render P_opt"
   ]
  },
  {
   "cell_type": "code",
   "execution_count": 79,
   "id": "fa48d446",
   "metadata": {},
   "outputs": [],
   "source": [
    "p_opt = [p.value[i*N_euc:N_euc*(i + 1)] for i in range(N_euc)]"
   ]
  },
  {
   "cell_type": "code",
   "execution_count": 80,
   "id": "754ce096",
   "metadata": {},
   "outputs": [
    {
     "data": {
      "text/plain": [
       "<matplotlib.image.AxesImage at 0x20184eec460>"
      ]
     },
     "execution_count": 80,
     "metadata": {},
     "output_type": "execute_result"
    },
    {
     "data": {
      "image/png": "[encoded data removed]",
      "text/plain": [
       "<Figure size 432x288 with 1 Axes>"
      ]
     },
     "metadata": {
      "needs_background": "light"
     },
     "output_type": "display_data"
    }
   ],
   "source": [
    "plt.gray()\n",
    "plt.imshow(p_opt)"
   ]
  },
  {
   "cell_type": "markdown",
   "id": "31931bbc",
   "metadata": {},
   "source": [
    "## Create and render an arithmetic mean case, for comparison"
   ]
  },
  {
   "cell_type": "code",
   "execution_count": 81,
   "id": "2bbb5ebe",
   "metadata": {},
   "outputs": [],
   "source": [
    "digit_mean = p_k[0].reshape((N_euc, N_euc)).copy()\n",
    "for i in range(1,K):\n",
    "    digit_mean += p_k[i].reshape((N_euc, N_euc))"
   ]
  },
  {
   "cell_type": "code",
   "execution_count": 82,
   "id": "e634852f",
   "metadata": {},
   "outputs": [
    {
     "data": {
      "image/png": "[encoded data removed]",
      "text/plain": [
       "<Figure size 720x792 with 6 Axes>"
      ]
     },
     "metadata": {
      "needs_background": "light"
     },
     "output_type": "display_data"
    }
   ],
   "source": [
    "fig, ax = plt.subplots(3, 2, figsize = (10, 11))\n",
    "\n",
    "for i in range(2):\n",
    "    ax[i, 0].imshow(p_k[2*i+1].reshape((N_euc, N_euc)))\n",
    "    ax[i, 1].imshow(p_k[2*i].reshape((N_euc, N_euc)))\n",
    "    \n",
    "    \n",
    "ax[2, 0].imshow(p_opt)\n",
    "ax[2, 1].imshow(digit_mean)\n",
    "\n",
    "ax[0, 1].set_title('Sample')\n",
    "plt.tight_layout()\n",
    "#plt.savefig('lol.pdf')"
   ]
  },
  {
   "cell_type": "markdown",
   "id": "e23461a7",
   "metadata": {},
   "source": [
    "# Data poisoning"
   ]
  },
  {
   "cell_type": "code",
   "execution_count": 93,
   "id": "99b92cf1",
   "metadata": {},
   "outputs": [],
   "source": [
    "# select k\n",
    "K = 15\n",
    "\n",
    "# select cifre to analyze\n",
    "digit = 0\n",
    "\n",
    "# Save p_k\n",
    "p_k = []\n",
    "\n",
    "shift = (0, -4) \n",
    "k = np.where(digits.target == digit)[0][0]\n",
    "new_digits = np.zeros((16, 16))\n",
    "new_digits[4 + int(shift[0]): 12 + int(shift[0]), 4 + int(shift[1]):12 + int(shift[1])] = digits.images[k]\n",
    "p_k.append(np.array(new_digits.flatten())/sum(np.array(new_digits.flatten())))\n",
    "\n",
    "# Loop in number of digits\n",
    "for k in np.where(digits.target == digit)[0][1:K]:\n",
    "    \n",
    "    # Create a random shift for each sample\n",
    "    shift = (0, 4) \n",
    "    \n",
    "    # Create the new image with the shift in 16x16 pixel array\n",
    "    new_digits = np.zeros((16, 16))\n",
    "    new_digits[4 + int(shift[0]): 12 + int(shift[0]), 4 + int(shift[1]):12 + int(shift[1])] = digits.images[k]\n",
    "    p_k.append(np.array(new_digits.flatten())/sum(np.array(new_digits.flatten())))\n",
    "\n",
    "\n",
    "\n",
    "\n",
    "# Define support for T\n",
    "N = len(p_k[0])"
   ]
  },
  {
   "cell_type": "code",
   "execution_count": 94,
   "id": "0f73782c",
   "metadata": {},
   "outputs": [],
   "source": [
    "# Define support for xi\n",
    "N_euc = int(np.sqrt(N))\n",
    "\n",
    "# Create cost matrix (l-2 norm used for the moment)\n",
    "c = np.zeros((N, N))\n",
    "for i, mi in enumerate(list(product(np.arange(N_euc), np.arange(N_euc)))):\n",
    "    for j, mj in enumerate(list(product(np.arange(N_euc), np.arange(N_euc)))):\n",
    "        c[i, j] = np.linalg.norm(np.array(mi)- np.array(mj), 2)**2 # l-2 norm"
   ]
  },
  {
   "cell_type": "code",
   "execution_count": 95,
   "id": "5ac89483",
   "metadata": {},
   "outputs": [
    {
     "data": {
      "text/plain": [
       "16.426322320459136"
      ]
     },
     "execution_count": 95,
     "metadata": {},
     "output_type": "execute_result"
    }
   ],
   "source": [
    "# Dec Var\n",
    "T = [cp.Variable((N, N)) for k in range(K)]\n",
    "epsilon = cp.Variable((1, 1))\n",
    "p = cp.Variable((N))\n",
    "\n",
    "# Obj\n",
    "obj = cp.Minimize(epsilon)\n",
    "\n",
    "# Cons\n",
    "cons = []\n",
    "for k in range(K):\n",
    "    cons.append(T[k] >= 0)\n",
    "    #cons.append(sum(sum(cp.multiply(T[k], c))) <= epsilon)\n",
    "    cons.append(cp.trace(c.T@T[k]) <= epsilon)\n",
    "    cons.append(T[k]@np.ones(N) == p)\n",
    "    cons.append(T[k].T@np.ones(N) == p_k[k])\n",
    "\n",
    "# Solve program\n",
    "problem = cp.Problem(obj, cons)\n",
    "problem.solve(solver = cp.SCIPY, scipy_options={\"method\": \"highs\"})"
   ]
  },
  {
   "cell_type": "code",
   "execution_count": 97,
   "id": "b30b9484",
   "metadata": {},
   "outputs": [
    {
     "data": {
      "text/plain": [
       "<matplotlib.image.AxesImage at 0x20184f2de20>"
      ]
     },
     "execution_count": 97,
     "metadata": {},
     "output_type": "execute_result"
    },
    {
     "data": {
      "image/png": "[encoded data removed]",
      "text/plain": [
       "<Figure size 432x288 with 1 Axes>"
      ]
     },
     "metadata": {
      "needs_background": "light"
     },
     "output_type": "display_data"
    }
   ],
   "source": [
    "p_opt = p.value.reshape(N_euc, N_euc)\n",
    "plt.gray()\n",
    "plt.imshow(p_opt)"
   ]
  },
  {
   "cell_type": "code",
   "execution_count": 98,
   "id": "fe0c6ae5",
   "metadata": {},
   "outputs": [],
   "source": [
    "digit_mean = p_k[0].reshape((N_euc, N_euc)).copy()\n",
    "for i in range(1,K):\n",
    "    digit_mean += p_k[i].reshape((N_euc, N_euc))"
   ]
  },
  {
   "cell_type": "code",
   "execution_count": 100,
   "id": "0af5d4c4",
   "metadata": {},
   "outputs": [
    {
     "data": {
      "image/png": "[encoded data removed]",
      "text/plain": [
       "<Figure size 720x792 with 6 Axes>"
      ]
     },
     "metadata": {
      "needs_background": "light"
     },
     "output_type": "display_data"
    }
   ],
   "source": [
    "fig, ax = plt.subplots(3, 2, figsize = (10, 11))\n",
    "\n",
    "for i in range(2):\n",
    "    ax[i, 1].imshow(p_k[2*i+1].reshape((N_euc, N_euc)))\n",
    "    ax[i, 0].imshow(p_k[2*i].reshape((N_euc, N_euc)))\n",
    "    \n",
    "    \n",
    "ax[2, 0].imshow(p_opt)\n",
    "ax[2, 1].imshow(digit_mean)\n",
    "\n",
    "ax[0, 1].set_title('Sample')\n",
    "plt.tight_layout()"
   ]
  },
  {
   "cell_type": "code",
   "execution_count": null,
   "id": "3750588a",
   "metadata": {},
   "outputs": [],
   "source": []
  }
 ],
 "metadata": {
  "kernelspec": {
   "display_name": "Python 3 (ipykernel)",
   "language": "python",
   "name": "python3"
  },
  "language_info": {
   "codemirror_mode": {
    "name": "ipython",
    "version": 3
   },
   "file_extension": ".py",
   "mimetype": "text/x-python",
   "name": "python",
   "nbconvert_exporter": "python",
   "pygments_lexer": "ipython3",
   "version": "3.9.7"
  }
 },
 "nbformat": 4,
 "nbformat_minor": 5
}
