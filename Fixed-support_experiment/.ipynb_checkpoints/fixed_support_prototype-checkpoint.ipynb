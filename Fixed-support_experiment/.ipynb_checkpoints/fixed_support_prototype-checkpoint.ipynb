{
 "cells": [
  {
   "cell_type": "markdown",
   "id": "766a48c9",
   "metadata": {},
   "source": [
    "# Minimum covering Wasserstein ball - Fixed support experiment \n",
    "\n",
    "### Load libraries"
   ]
  },
  {
   "cell_type": "code",
   "execution_count": 1,
   "id": "f5ec3beb",
   "metadata": {},
   "outputs": [],
   "source": [
    "import numpy as np\n",
    "import cvxpy as cp\n",
    "from itertools import product\n",
    "import matplotlib.pyplot as plt"
   ]
  },
  {
   "cell_type": "markdown",
   "id": "9375c4b3",
   "metadata": {},
   "source": [
    "### Load Dataset: MINST 8x8 pixels"
   ]
  },
  {
   "cell_type": "code",
   "execution_count": 2,
   "id": "db1bde78",
   "metadata": {},
   "outputs": [],
   "source": [
    "from sklearn.datasets import load_digits\n",
    "digits = load_digits()"
   ]
  },
  {
   "cell_type": "markdown",
   "id": "d4f2a12c",
   "metadata": {},
   "source": [
    "### Load $\\hat{p}s$"
   ]
  },
  {
   "cell_type": "code",
   "execution_count": 3,
   "id": "553089b8",
   "metadata": {},
   "outputs": [],
   "source": [
    "# select k\n",
    "K = 40\n",
    "\n",
    "# select cifre to analyze\n",
    "digit = 3\n",
    "\n",
    "# Save p_k\n",
    "p_k = [np.array(digits.images[k].flatten()) for k in np.where(digits.target == digit)[0][0:K]]\n",
    "\n",
    "# Define support for T\n",
    "N = len(p_k[0])"
   ]
  },
  {
   "cell_type": "markdown",
   "id": "37b6b903",
   "metadata": {},
   "source": [
    "### Create cost function matrix (for now we use $l$-2 norm, probably not very efficient)"
   ]
  },
  {
   "cell_type": "code",
   "execution_count": 4,
   "id": "c41e23c9",
   "metadata": {},
   "outputs": [
    {
     "data": {
      "text/plain": [
       "<matplotlib.image.AxesImage at 0x1dd878472e0>"
      ]
     },
     "execution_count": 4,
     "metadata": {},
     "output_type": "execute_result"
    },
    {
     "data": {
      "image/png": "[encoded data removed]",
      "text/plain": [
       "<Figure size 432x288 with 1 Axes>"
      ]
     },
     "metadata": {
      "needs_background": "light"
     },
     "output_type": "display_data"
    }
   ],
   "source": [
    "# Define support for xi\n",
    "N_euc = int(np.sqrt(N))\n",
    "\n",
    "# Create cost matrix (l-2 norm used for the moment)\n",
    "c = np.zeros((N, N))\n",
    "for i, mi in enumerate(list(product(np.arange(N_euc), np.arange(N_euc)))):\n",
    "    for j, mj in enumerate(list(product(np.arange(N_euc), np.arange(N_euc)))):\n",
    "        c[i, j] = np.linalg.norm(np.array(mi)- np.array(mj), 2) # l-2 norm\n",
    "        #c[i, j] = np.linalg.norm(np.array(mi)- np.array(mj), 1) # l-1 norm\n",
    "\n",
    "# Plot\n",
    "plt.imshow(c)"
   ]
  },
  {
   "cell_type": "markdown",
   "id": "d629f5dd",
   "metadata": {},
   "source": [
    "## Define optmization program in CVXPY"
   ]
  },
  {
   "cell_type": "code",
   "execution_count": 5,
   "id": "9261e39b",
   "metadata": {},
   "outputs": [
    {
     "data": {
      "text/plain": [
       "4.6384512212696214e-11"
      ]
     },
     "execution_count": 5,
     "metadata": {},
     "output_type": "execute_result"
    }
   ],
   "source": [
    "# Dec Var\n",
    "T = [cp.Variable((N, N)) for k in range(K)]\n",
    "epsilon = cp.Variable((1, 1))\n",
    "p = cp.Variable((N))\n",
    "\n",
    "# Obj\n",
    "obj = cp.Minimize(epsilon)\n",
    "\n",
    "# Cons\n",
    "for k in range(K):\n",
    "    cons = [T[k] >= 0]\n",
    "    #cons.append(sum(sum(cp.multiply(T[k], c))) <= epsilon)\n",
    "    cons.append(cp.trace(c.T@T[k]) <= epsilon)\n",
    "    cons.append(T[k]@np.ones(N) == p)\n",
    "    cons.append(T[k].T@np.ones(N) == p_k[k])\n",
    "\n",
    "# Solve program\n",
    "problem = cp.Problem(obj, cons)\n",
    "problem.solve()"
   ]
  },
  {
   "cell_type": "markdown",
   "id": "01b2bd34",
   "metadata": {},
   "source": [
    "### Create 2-D render of the optimal distribution"
   ]
  },
  {
   "cell_type": "code",
   "execution_count": 6,
   "id": "7cf2f194",
   "metadata": {},
   "outputs": [],
   "source": [
    "p_opt = [p.value[i*N_euc:N_euc*(i + 1)] for i in range(N_euc)]"
   ]
  },
  {
   "cell_type": "code",
   "execution_count": 7,
   "id": "43ecc76b",
   "metadata": {},
   "outputs": [
    {
     "data": {
      "text/plain": [
       "<matplotlib.image.AxesImage at 0x1dd877240a0>"
      ]
     },
     "execution_count": 7,
     "metadata": {},
     "output_type": "execute_result"
    },
    {
     "data": {
      "image/png": "[encoded data removed]",
      "text/plain": [
       "<Figure size 432x288 with 1 Axes>"
      ]
     },
     "metadata": {
      "needs_background": "light"
     },
     "output_type": "display_data"
    }
   ],
   "source": [
    "plt.gray()\n",
    "plt.imshow(p_opt)"
   ]
  },
  {
   "cell_type": "markdown",
   "id": "912fb7ba",
   "metadata": {},
   "source": [
    "### Compare with arithmetic mean of pixels"
   ]
  },
  {
   "cell_type": "code",
   "execution_count": 8,
   "id": "be43a2bf",
   "metadata": {},
   "outputs": [
    {
     "data": {
      "text/plain": [
       "<matplotlib.image.AxesImage at 0x1dd87514cd0>"
      ]
     },
     "execution_count": 8,
     "metadata": {},
     "output_type": "execute_result"
    },
    {
     "data": {
      "image/png": "[encoded data removed]",
      "text/plain": [
       "<Figure size 288x288 with 1 Axes>"
      ]
     },
     "metadata": {
      "needs_background": "light"
     },
     "output_type": "display_data"
    }
   ],
   "source": [
    "digit_mean = p_k[0].reshape((N_euc, N_euc))\n",
    "for i in range(1,k):\n",
    "    digit_mean +=p_k[i].reshape((N_euc, N_euc))\n",
    "\n",
    "plt.matshow(digit_mean)"
   ]
  },
  {
   "cell_type": "markdown",
   "id": "c92e91a9",
   "metadata": {},
   "source": [
    "# Experiment with shifted digits 16x16 pixels\n",
    "\n",
    "## Select number of samples k, create a random shift for each sample"
   ]
  },
  {
   "cell_type": "code",
   "execution_count": 9,
   "id": "8716bf9b",
   "metadata": {},
   "outputs": [],
   "source": [
    "# select k\n",
    "K = 30\n",
    "\n",
    "# select cifre to analyze\n",
    "digit = 3\n",
    "\n",
    "# Save p_k\n",
    "p_k = []\n",
    "\n",
    "# Loop in number of digits\n",
    "for k in np.where(digits.target == digit)[0][0:K]:\n",
    "    \n",
    "    # Create a random shift for each sample\n",
    "    shift = np.round(4 - 8*np.random.rand(2))\n",
    "    \n",
    "    # Create the new image with the shift in 16x16 pixel array\n",
    "    new_digits = np.zeros((16, 16))\n",
    "    new_digits[4 + int(shift[0]): 12 + int(shift[0]), 4 + int(shift[1]):12 + int(shift[1])] = digits.images[k]\n",
    "    p_k.append(np.array(new_digits.flatten()))\n",
    "    \n",
    "# Define support for T\n",
    "N = len(p_k[0])"
   ]
  },
  {
   "cell_type": "markdown",
   "id": "58e48d42",
   "metadata": {},
   "source": [
    "## Create cost function matrix"
   ]
  },
  {
   "cell_type": "code",
   "execution_count": 10,
   "id": "96d837f1",
   "metadata": {},
   "outputs": [],
   "source": [
    "# Define support for xi\n",
    "N_euc = int(np.sqrt(N))\n",
    "\n",
    "# Create cost matrix (l-2 norm used for the moment)\n",
    "c = np.zeros((N, N))\n",
    "for i, mi in enumerate(list(product(np.arange(N_euc), np.arange(N_euc)))):\n",
    "    for j, mj in enumerate(list(product(np.arange(N_euc), np.arange(N_euc)))):\n",
    "        c[i, j] = np.linalg.norm(np.array(mi)- np.array(mj), 2) # l-2 norm\n",
    "        #c[i, j] = np.linalg.norm(np.array(mi)- np.array(mj), 1) # l-1 norm"
   ]
  },
  {
   "cell_type": "markdown",
   "id": "35680983",
   "metadata": {},
   "source": [
    "## Define optimization program"
   ]
  },
  {
   "cell_type": "code",
   "execution_count": 11,
   "id": "7d66a473",
   "metadata": {},
   "outputs": [
    {
     "data": {
      "text/plain": [
       "6.388907995764455e-12"
      ]
     },
     "execution_count": 11,
     "metadata": {},
     "output_type": "execute_result"
    }
   ],
   "source": [
    "# Dec Var\n",
    "T = [cp.Variable((N, N)) for k in range(K)]\n",
    "epsilon = cp.Variable((1, 1))\n",
    "p = cp.Variable((N))\n",
    "\n",
    "# Obj\n",
    "obj = cp.Minimize(epsilon)\n",
    "\n",
    "# Cons\n",
    "for k in range(K):\n",
    "    cons = [T[k] >= 0]\n",
    "    #cons.append(sum(sum(cp.multiply(T[k], c))) <= epsilon)\n",
    "    cons.append(cp.trace(c.T@T[k]) <= epsilon)\n",
    "    cons.append(T[k]@np.ones(N) == p)\n",
    "    cons.append(T[k].T@np.ones(N) == p_k[k])\n",
    "\n",
    "# Solve program\n",
    "problem = cp.Problem(obj, cons)\n",
    "problem.solve()"
   ]
  },
  {
   "cell_type": "markdown",
   "id": "4aec4a14",
   "metadata": {},
   "source": [
    "## Recover and render P_opt"
   ]
  },
  {
   "cell_type": "code",
   "execution_count": 12,
   "id": "7cb7b8bb",
   "metadata": {},
   "outputs": [],
   "source": [
    "p_opt = [p.value[i*N_euc:N_euc*(i + 1)] for i in range(N_euc)]"
   ]
  },
  {
   "cell_type": "code",
   "execution_count": 13,
   "id": "e7db10aa",
   "metadata": {},
   "outputs": [
    {
     "data": {
      "text/plain": [
       "<matplotlib.image.AxesImage at 0x1dd875d3bb0>"
      ]
     },
     "execution_count": 13,
     "metadata": {},
     "output_type": "execute_result"
    },
    {
     "data": {
      "image/png": "[encoded data removed]",
      "text/plain": [
       "<Figure size 432x288 with 1 Axes>"
      ]
     },
     "metadata": {
      "needs_background": "light"
     },
     "output_type": "display_data"
    }
   ],
   "source": [
    "plt.gray()\n",
    "plt.imshow(p_opt)"
   ]
  },
  {
   "cell_type": "markdown",
   "id": "4dc04281",
   "metadata": {},
   "source": [
    "## Create and render an arithmetic mean case, for comparison"
   ]
  },
  {
   "cell_type": "code",
   "execution_count": 14,
   "id": "af26e0a8",
   "metadata": {},
   "outputs": [],
   "source": [
    "digit_mean = p_k[0].reshape((N_euc, N_euc))\n",
    "for i in range(1,k):\n",
    "    digit_mean +=p_k[i].reshape((N_euc, N_euc))"
   ]
  },
  {
   "cell_type": "code",
   "execution_count": 15,
   "id": "06040762",
   "metadata": {},
   "outputs": [
    {
     "data": {
      "text/plain": [
       "<matplotlib.image.AxesImage at 0x1dd876fdb80>"
      ]
     },
     "execution_count": 15,
     "metadata": {},
     "output_type": "execute_result"
    },
    {
     "data": {
      "image/png": "[encoded data removed]",
      "text/plain": [
       "<Figure size 432x288 with 2 Axes>"
      ]
     },
     "metadata": {
      "needs_background": "light"
     },
     "output_type": "display_data"
    }
   ],
   "source": [
    "fig, ax = plt.subplots(1, 2)\n",
    "\n",
    "ax[0].imshow(p_opt)\n",
    "ax[1].matshow(digit_mean)"
   ]
  },
  {
   "cell_type": "code",
   "execution_count": null,
   "id": "3f5fe463",
   "metadata": {},
   "outputs": [],
   "source": []
  }
 ],
 "metadata": {
  "kernelspec": {
   "display_name": "Python 3 (ipykernel)",
   "language": "python",
   "name": "python3"
  },
  "language_info": {
   "codemirror_mode": {
    "name": "ipython",
    "version": 3
   },
   "file_extension": ".py",
   "mimetype": "text/x-python",
   "name": "python",
   "nbconvert_exporter": "python",
   "pygments_lexer": "ipython3",
   "version": "3.9.7"
  }
 },
 "nbformat": 4,
 "nbformat_minor": 5
}
